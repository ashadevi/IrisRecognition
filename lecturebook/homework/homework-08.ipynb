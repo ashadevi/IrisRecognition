{
  "cells": [
    {
      "cell_type": "markdown",
      "metadata": {
        "id": "4Wt08JzkRCav"
      },
      "source": [
        "# Homework 8\n",
        "\n",
        "\n",
        "## References\n",
        "\n",
        "+ Lectures 27-28 (inclusive).\n",
        "\n",
        "\n",
        "## Instructions\n",
        "\n",
        "+ Type your name and email in the \"Student details\" section below.\n",
        "+ Develop the code and generate the figures you need to solve the problems using this notebook.\n",
        "+ For the answers that require a mathematical proof or derivation you should type them using latex. If you have never written latex before and you find it exceedingly difficult, we will likely accept handwritten solutions.\n",
        "+ The total homework points are 100. Please note that the problems are not weighed equally."
      ]
    },
    {
      "cell_type": "code",
      "execution_count": 2,
      "metadata": {
        "tags": [
          "hide-input"
        ],
        "id": "6fAtoa07RCa0"
      },
      "outputs": [],
      "source": [
        "MAKE_BOOK_FIGURES=True\n",
        "import numpy as np\n",
        "import scipy.stats as st\n",
        "\n",
        "import matplotlib as mpl\n",
        "import matplotlib.pyplot as plt\n",
        "%matplotlib inline\n",
        "import matplotlib_inline\n",
        "matplotlib_inline.backend_inline.set_matplotlib_formats('svg')\n",
        "import seaborn as sns\n",
        "sns.set_context(\"paper\")\n",
        "sns.set_style(\"ticks\")\n",
        "\n",
        "def set_book_style():\n",
        "    plt.style.use('seaborn-v0_8-white')\n",
        "    sns.set_style(\"ticks\")\n",
        "    sns.set_palette(\"deep\")\n",
        "\n",
        "    mpl.rcParams.update({\n",
        "        # Font settings\n",
        "        'font.family': 'serif',  # For academic publishing\n",
        "        'font.size': 8,  # As requested, 10pt font\n",
        "        'axes.labelsize': 8,\n",
        "        'axes.titlesize': 8,\n",
        "        'xtick.labelsize': 7,  # Slightly smaller for better readability\n",
        "        'ytick.labelsize': 7,\n",
        "        'legend.fontsize': 7,\n",
        "\n",
        "        # Line and marker settings for consistency\n",
        "        'axes.linewidth': 0.5,\n",
        "        'grid.linewidth': 0.5,\n",
        "        'lines.linewidth': 1.0,\n",
        "        'lines.markersize': 4,\n",
        "\n",
        "        # Layout to prevent clipped labels\n",
        "        'figure.constrained_layout.use': True,\n",
        "\n",
        "        # Default DPI (will override when saving)\n",
        "        'figure.dpi': 600,\n",
        "        'savefig.dpi': 600,\n",
        "\n",
        "        # Despine - remove top and right spines\n",
        "        'axes.spines.top': False,\n",
        "        'axes.spines.right': False,\n",
        "\n",
        "        # Remove legend frame\n",
        "        'legend.frameon': False,\n",
        "\n",
        "        # Additional trim settings\n",
        "        'figure.autolayout': True,  # Alternative to constrained_layout\n",
        "        'savefig.bbox': 'tight',    # Trim when saving\n",
        "        'savefig.pad_inches': 0.1   # Small padding to ensure nothing gets cut off\n",
        "    })\n",
        "\n",
        "def set_notebook_style():\n",
        "    plt.style.use('seaborn-v0_8-white')\n",
        "    sns.set_style(\"ticks\")\n",
        "    sns.set_palette(\"deep\")\n",
        "\n",
        "    mpl.rcParams.update({\n",
        "        # Font settings - using default sizes\n",
        "        'font.family': 'serif',\n",
        "        'axes.labelsize': 10,\n",
        "        'axes.titlesize': 10,\n",
        "        'xtick.labelsize': 9,\n",
        "        'ytick.labelsize': 9,\n",
        "        'legend.fontsize': 9,\n",
        "\n",
        "        # Line and marker settings\n",
        "        'axes.linewidth': 0.5,\n",
        "        'grid.linewidth': 0.5,\n",
        "        'lines.linewidth': 1.0,\n",
        "        'lines.markersize': 4,\n",
        "\n",
        "        # Layout settings\n",
        "        'figure.constrained_layout.use': True,\n",
        "\n",
        "        # Remove only top and right spines\n",
        "        'axes.spines.top': False,\n",
        "        'axes.spines.right': False,\n",
        "\n",
        "        # Remove legend frame\n",
        "        'legend.frameon': False,\n",
        "\n",
        "        # Additional settings\n",
        "        'figure.autolayout': True,\n",
        "        'savefig.bbox': 'tight',\n",
        "        'savefig.pad_inches': 0.1\n",
        "    })\n",
        "\n",
        "def save_for_book(fig, filename, is_vector=True, **kwargs):\n",
        "    \"\"\"\n",
        "    Save a figure with book-optimized settings.\n",
        "\n",
        "    Parameters:\n",
        "    -----------\n",
        "    fig : matplotlib figure\n",
        "        The figure to save\n",
        "    filename : str\n",
        "        Filename without extension\n",
        "    is_vector : bool\n",
        "        If True, saves as vector at 1000 dpi. If False, saves as raster at 600 dpi.\n",
        "    **kwargs : dict\n",
        "        Additional kwargs to pass to savefig\n",
        "    \"\"\"\n",
        "    # Set appropriate DPI and format based on figure type\n",
        "    if is_vector:\n",
        "        dpi = 1000\n",
        "        ext = '.pdf'\n",
        "    else:\n",
        "        dpi = 600\n",
        "        ext = '.tif'\n",
        "\n",
        "    # Save the figure with book settings\n",
        "    fig.savefig(f\"{filename}{ext}\", dpi=dpi, **kwargs)\n",
        "\n",
        "def make_full_width_fig():\n",
        "    return plt.subplots(figsize=(4.7, 2.9), constrained_layout=True)\n",
        "\n",
        "def make_half_width_fig():\n",
        "    return plt.subplots(figsize=(2.35, 1.45), constrained_layout=True)\n",
        "\n",
        "if MAKE_BOOK_FIGURES:\n",
        "    set_book_style()\n",
        "else:\n",
        "    set_notebook_style()\n",
        "\n",
        "make_full_width_fig = make_full_width_fig if MAKE_BOOK_FIGURES else lambda: plt.subplots()\n",
        "make_half_width_fig = make_half_width_fig if MAKE_BOOK_FIGURES else lambda: plt.subplots()"
      ]
    },
    {
      "cell_type": "code",
      "execution_count": 3,
      "metadata": {
        "colab": {
          "base_uri": "https://localhost:8080/"
        },
        "id": "XtHMSdDARCa3",
        "outputId": "c042ba31-722c-4fc3-9046-9e0f3a669b87"
      },
      "outputs": [
        {
          "output_type": "stream",
          "name": "stdout",
          "text": [
            "Collecting pyro-ppl\n",
            "  Downloading pyro_ppl-1.9.1-py3-none-any.whl.metadata (7.8 kB)\n",
            "Requirement already satisfied: numpy>=1.7 in /usr/local/lib/python3.11/dist-packages (from pyro-ppl) (2.0.2)\n",
            "Requirement already satisfied: opt-einsum>=2.3.2 in /usr/local/lib/python3.11/dist-packages (from pyro-ppl) (3.4.0)\n",
            "Collecting pyro-api>=0.1.1 (from pyro-ppl)\n",
            "  Downloading pyro_api-0.1.2-py3-none-any.whl.metadata (2.5 kB)\n",
            "Requirement already satisfied: torch>=2.0 in /usr/local/lib/python3.11/dist-packages (from pyro-ppl) (2.6.0+cu124)\n",
            "Requirement already satisfied: tqdm>=4.36 in /usr/local/lib/python3.11/dist-packages (from pyro-ppl) (4.67.1)\n",
            "Requirement already satisfied: filelock in /usr/local/lib/python3.11/dist-packages (from torch>=2.0->pyro-ppl) (3.18.0)\n",
            "Requirement already satisfied: typing-extensions>=4.10.0 in /usr/local/lib/python3.11/dist-packages (from torch>=2.0->pyro-ppl) (4.14.1)\n",
            "Requirement already satisfied: networkx in /usr/local/lib/python3.11/dist-packages (from torch>=2.0->pyro-ppl) (3.5)\n",
            "Requirement already satisfied: jinja2 in /usr/local/lib/python3.11/dist-packages (from torch>=2.0->pyro-ppl) (3.1.6)\n",
            "Requirement already satisfied: fsspec in /usr/local/lib/python3.11/dist-packages (from torch>=2.0->pyro-ppl) (2025.3.0)\n",
            "Collecting nvidia-cuda-nvrtc-cu12==12.4.127 (from torch>=2.0->pyro-ppl)\n",
            "  Downloading nvidia_cuda_nvrtc_cu12-12.4.127-py3-none-manylinux2014_x86_64.whl.metadata (1.5 kB)\n",
            "Collecting nvidia-cuda-runtime-cu12==12.4.127 (from torch>=2.0->pyro-ppl)\n",
            "  Downloading nvidia_cuda_runtime_cu12-12.4.127-py3-none-manylinux2014_x86_64.whl.metadata (1.5 kB)\n",
            "Collecting nvidia-cuda-cupti-cu12==12.4.127 (from torch>=2.0->pyro-ppl)\n",
            "  Downloading nvidia_cuda_cupti_cu12-12.4.127-py3-none-manylinux2014_x86_64.whl.metadata (1.6 kB)\n",
            "Collecting nvidia-cudnn-cu12==9.1.0.70 (from torch>=2.0->pyro-ppl)\n",
            "  Downloading nvidia_cudnn_cu12-9.1.0.70-py3-none-manylinux2014_x86_64.whl.metadata (1.6 kB)\n",
            "Collecting nvidia-cublas-cu12==12.4.5.8 (from torch>=2.0->pyro-ppl)\n",
            "  Downloading nvidia_cublas_cu12-12.4.5.8-py3-none-manylinux2014_x86_64.whl.metadata (1.5 kB)\n",
            "Collecting nvidia-cufft-cu12==11.2.1.3 (from torch>=2.0->pyro-ppl)\n",
            "  Downloading nvidia_cufft_cu12-11.2.1.3-py3-none-manylinux2014_x86_64.whl.metadata (1.5 kB)\n",
            "Collecting nvidia-curand-cu12==10.3.5.147 (from torch>=2.0->pyro-ppl)\n",
            "  Downloading nvidia_curand_cu12-10.3.5.147-py3-none-manylinux2014_x86_64.whl.metadata (1.5 kB)\n",
            "Collecting nvidia-cusolver-cu12==11.6.1.9 (from torch>=2.0->pyro-ppl)\n",
            "  Downloading nvidia_cusolver_cu12-11.6.1.9-py3-none-manylinux2014_x86_64.whl.metadata (1.6 kB)\n",
            "Collecting nvidia-cusparse-cu12==12.3.1.170 (from torch>=2.0->pyro-ppl)\n",
            "  Downloading nvidia_cusparse_cu12-12.3.1.170-py3-none-manylinux2014_x86_64.whl.metadata (1.6 kB)\n",
            "Requirement already satisfied: nvidia-cusparselt-cu12==0.6.2 in /usr/local/lib/python3.11/dist-packages (from torch>=2.0->pyro-ppl) (0.6.2)\n",
            "Collecting nvidia-nccl-cu12==2.21.5 (from torch>=2.0->pyro-ppl)\n",
            "  Downloading nvidia_nccl_cu12-2.21.5-py3-none-manylinux2014_x86_64.whl.metadata (1.8 kB)\n",
            "Requirement already satisfied: nvidia-nvtx-cu12==12.4.127 in /usr/local/lib/python3.11/dist-packages (from torch>=2.0->pyro-ppl) (12.4.127)\n",
            "Collecting nvidia-nvjitlink-cu12==12.4.127 (from torch>=2.0->pyro-ppl)\n",
            "  Downloading nvidia_nvjitlink_cu12-12.4.127-py3-none-manylinux2014_x86_64.whl.metadata (1.5 kB)\n",
            "Requirement already satisfied: triton==3.2.0 in /usr/local/lib/python3.11/dist-packages (from torch>=2.0->pyro-ppl) (3.2.0)\n",
            "Requirement already satisfied: sympy==1.13.1 in /usr/local/lib/python3.11/dist-packages (from torch>=2.0->pyro-ppl) (1.13.1)\n",
            "Requirement already satisfied: mpmath<1.4,>=1.1.0 in /usr/local/lib/python3.11/dist-packages (from sympy==1.13.1->torch>=2.0->pyro-ppl) (1.3.0)\n",
            "Requirement already satisfied: MarkupSafe>=2.0 in /usr/local/lib/python3.11/dist-packages (from jinja2->torch>=2.0->pyro-ppl) (3.0.2)\n",
            "Downloading pyro_ppl-1.9.1-py3-none-any.whl (755 kB)\n",
            "\u001b[2K   \u001b[90m━━━━━━━━━━━━━━━━━━━━━━━━━━━━━━━━━━━━━━━━\u001b[0m \u001b[32m756.0/756.0 kB\u001b[0m \u001b[31m10.4 MB/s\u001b[0m eta \u001b[36m0:00:00\u001b[0m\n",
            "\u001b[?25hDownloading pyro_api-0.1.2-py3-none-any.whl (11 kB)\n",
            "Downloading nvidia_cublas_cu12-12.4.5.8-py3-none-manylinux2014_x86_64.whl (363.4 MB)\n",
            "\u001b[2K   \u001b[90m━━━━━━━━━━━━━━━━━━━━━━━━━━━━━━━━━━━━━━━━\u001b[0m \u001b[32m363.4/363.4 MB\u001b[0m \u001b[31m4.5 MB/s\u001b[0m eta \u001b[36m0:00:00\u001b[0m\n",
            "\u001b[?25hDownloading nvidia_cuda_cupti_cu12-12.4.127-py3-none-manylinux2014_x86_64.whl (13.8 MB)\n",
            "\u001b[2K   \u001b[90m━━━━━━━━━━━━━━━━━━━━━━━━━━━━━━━━━━━━━━━━\u001b[0m \u001b[32m13.8/13.8 MB\u001b[0m \u001b[31m102.7 MB/s\u001b[0m eta \u001b[36m0:00:00\u001b[0m\n",
            "\u001b[?25hDownloading nvidia_cuda_nvrtc_cu12-12.4.127-py3-none-manylinux2014_x86_64.whl (24.6 MB)\n",
            "\u001b[2K   \u001b[90m━━━━━━━━━━━━━━━━━━━━━━━━━━━━━━━━━━━━━━━━\u001b[0m \u001b[32m24.6/24.6 MB\u001b[0m \u001b[31m70.9 MB/s\u001b[0m eta \u001b[36m0:00:00\u001b[0m\n",
            "\u001b[?25hDownloading nvidia_cuda_runtime_cu12-12.4.127-py3-none-manylinux2014_x86_64.whl (883 kB)\n",
            "\u001b[2K   \u001b[90m━━━━━━━━━━━━━━━━━━━━━━━━━━━━━━━━━━━━━━━━\u001b[0m \u001b[32m883.7/883.7 kB\u001b[0m \u001b[31m44.2 MB/s\u001b[0m eta \u001b[36m0:00:00\u001b[0m\n",
            "\u001b[?25hDownloading nvidia_cudnn_cu12-9.1.0.70-py3-none-manylinux2014_x86_64.whl (664.8 MB)\n",
            "\u001b[2K   \u001b[90m━━━━━━━━━━━━━━━━━━━━━━━━━━━━━━━━━━━━━━━━\u001b[0m \u001b[32m664.8/664.8 MB\u001b[0m \u001b[31m1.4 MB/s\u001b[0m eta \u001b[36m0:00:00\u001b[0m\n",
            "\u001b[?25hDownloading nvidia_cufft_cu12-11.2.1.3-py3-none-manylinux2014_x86_64.whl (211.5 MB)\n",
            "\u001b[2K   \u001b[90m━━━━━━━━━━━━━━━━━━━━━━━━━━━━━━━━━━━━━━━━\u001b[0m \u001b[32m211.5/211.5 MB\u001b[0m \u001b[31m5.7 MB/s\u001b[0m eta \u001b[36m0:00:00\u001b[0m\n",
            "\u001b[?25hDownloading nvidia_curand_cu12-10.3.5.147-py3-none-manylinux2014_x86_64.whl (56.3 MB)\n",
            "\u001b[2K   \u001b[90m━━━━━━━━━━━━━━━━━━━━━━━━━━━━━━━━━━━━━━━━\u001b[0m \u001b[32m56.3/56.3 MB\u001b[0m \u001b[31m14.1 MB/s\u001b[0m eta \u001b[36m0:00:00\u001b[0m\n",
            "\u001b[?25hDownloading nvidia_cusolver_cu12-11.6.1.9-py3-none-manylinux2014_x86_64.whl (127.9 MB)\n",
            "\u001b[2K   \u001b[90m━━━━━━━━━━━━━━━━━━━━━━━━━━━━━━━━━━━━━━━━\u001b[0m \u001b[32m127.9/127.9 MB\u001b[0m \u001b[31m7.4 MB/s\u001b[0m eta \u001b[36m0:00:00\u001b[0m\n",
            "\u001b[?25hDownloading nvidia_cusparse_cu12-12.3.1.170-py3-none-manylinux2014_x86_64.whl (207.5 MB)\n",
            "\u001b[2K   \u001b[90m━━━━━━━━━━━━━━━━━━━━━━━━━━━━━━━━━━━━━━━━\u001b[0m \u001b[32m207.5/207.5 MB\u001b[0m \u001b[31m5.5 MB/s\u001b[0m eta \u001b[36m0:00:00\u001b[0m\n",
            "\u001b[?25hDownloading nvidia_nccl_cu12-2.21.5-py3-none-manylinux2014_x86_64.whl (188.7 MB)\n",
            "\u001b[2K   \u001b[90m━━━━━━━━━━━━━━━━━━━━━━━━━━━━━━━━━━━━━━━━\u001b[0m \u001b[32m188.7/188.7 MB\u001b[0m \u001b[31m6.4 MB/s\u001b[0m eta \u001b[36m0:00:00\u001b[0m\n",
            "\u001b[?25hDownloading nvidia_nvjitlink_cu12-12.4.127-py3-none-manylinux2014_x86_64.whl (21.1 MB)\n",
            "\u001b[2K   \u001b[90m━━━━━━━━━━━━━━━━━━━━━━━━━━━━━━━━━━━━━━━━\u001b[0m \u001b[32m21.1/21.1 MB\u001b[0m \u001b[31m81.4 MB/s\u001b[0m eta \u001b[36m0:00:00\u001b[0m\n",
            "\u001b[?25hInstalling collected packages: pyro-api, nvidia-nvjitlink-cu12, nvidia-nccl-cu12, nvidia-curand-cu12, nvidia-cufft-cu12, nvidia-cuda-runtime-cu12, nvidia-cuda-nvrtc-cu12, nvidia-cuda-cupti-cu12, nvidia-cublas-cu12, nvidia-cusparse-cu12, nvidia-cudnn-cu12, nvidia-cusolver-cu12, pyro-ppl\n",
            "  Attempting uninstall: nvidia-nvjitlink-cu12\n",
            "    Found existing installation: nvidia-nvjitlink-cu12 12.5.82\n",
            "    Uninstalling nvidia-nvjitlink-cu12-12.5.82:\n",
            "      Successfully uninstalled nvidia-nvjitlink-cu12-12.5.82\n",
            "  Attempting uninstall: nvidia-nccl-cu12\n",
            "    Found existing installation: nvidia-nccl-cu12 2.23.4\n",
            "    Uninstalling nvidia-nccl-cu12-2.23.4:\n",
            "      Successfully uninstalled nvidia-nccl-cu12-2.23.4\n",
            "  Attempting uninstall: nvidia-curand-cu12\n",
            "    Found existing installation: nvidia-curand-cu12 10.3.6.82\n",
            "    Uninstalling nvidia-curand-cu12-10.3.6.82:\n",
            "      Successfully uninstalled nvidia-curand-cu12-10.3.6.82\n",
            "  Attempting uninstall: nvidia-cufft-cu12\n",
            "    Found existing installation: nvidia-cufft-cu12 11.2.3.61\n",
            "    Uninstalling nvidia-cufft-cu12-11.2.3.61:\n",
            "      Successfully uninstalled nvidia-cufft-cu12-11.2.3.61\n",
            "  Attempting uninstall: nvidia-cuda-runtime-cu12\n",
            "    Found existing installation: nvidia-cuda-runtime-cu12 12.5.82\n",
            "    Uninstalling nvidia-cuda-runtime-cu12-12.5.82:\n",
            "      Successfully uninstalled nvidia-cuda-runtime-cu12-12.5.82\n",
            "  Attempting uninstall: nvidia-cuda-nvrtc-cu12\n",
            "    Found existing installation: nvidia-cuda-nvrtc-cu12 12.5.82\n",
            "    Uninstalling nvidia-cuda-nvrtc-cu12-12.5.82:\n",
            "      Successfully uninstalled nvidia-cuda-nvrtc-cu12-12.5.82\n",
            "  Attempting uninstall: nvidia-cuda-cupti-cu12\n",
            "    Found existing installation: nvidia-cuda-cupti-cu12 12.5.82\n",
            "    Uninstalling nvidia-cuda-cupti-cu12-12.5.82:\n",
            "      Successfully uninstalled nvidia-cuda-cupti-cu12-12.5.82\n",
            "  Attempting uninstall: nvidia-cublas-cu12\n",
            "    Found existing installation: nvidia-cublas-cu12 12.5.3.2\n",
            "    Uninstalling nvidia-cublas-cu12-12.5.3.2:\n",
            "      Successfully uninstalled nvidia-cublas-cu12-12.5.3.2\n",
            "  Attempting uninstall: nvidia-cusparse-cu12\n",
            "    Found existing installation: nvidia-cusparse-cu12 12.5.1.3\n",
            "    Uninstalling nvidia-cusparse-cu12-12.5.1.3:\n",
            "      Successfully uninstalled nvidia-cusparse-cu12-12.5.1.3\n",
            "  Attempting uninstall: nvidia-cudnn-cu12\n",
            "    Found existing installation: nvidia-cudnn-cu12 9.3.0.75\n",
            "    Uninstalling nvidia-cudnn-cu12-9.3.0.75:\n",
            "      Successfully uninstalled nvidia-cudnn-cu12-9.3.0.75\n",
            "  Attempting uninstall: nvidia-cusolver-cu12\n",
            "    Found existing installation: nvidia-cusolver-cu12 11.6.3.83\n",
            "    Uninstalling nvidia-cusolver-cu12-11.6.3.83:\n",
            "      Successfully uninstalled nvidia-cusolver-cu12-11.6.3.83\n",
            "Successfully installed nvidia-cublas-cu12-12.4.5.8 nvidia-cuda-cupti-cu12-12.4.127 nvidia-cuda-nvrtc-cu12-12.4.127 nvidia-cuda-runtime-cu12-12.4.127 nvidia-cudnn-cu12-9.1.0.70 nvidia-cufft-cu12-11.2.1.3 nvidia-curand-cu12-10.3.5.147 nvidia-cusolver-cu12-11.6.1.9 nvidia-cusparse-cu12-12.3.1.170 nvidia-nccl-cu12-2.21.5 nvidia-nvjitlink-cu12-12.4.127 pyro-api-0.1.2 pyro-ppl-1.9.1\n"
          ]
        }
      ],
      "source": [
        "# Run this on Google colab\n",
        "!pip install pyro-ppl"
      ]
    },
    {
      "cell_type": "code",
      "execution_count": 4,
      "metadata": {
        "id": "phcYl475RCa5"
      },
      "outputs": [],
      "source": [
        "import pyro\n",
        "import pyro.distributions as dist\n",
        "from pyro.infer import MCMC, NUTS\n",
        "import torch"
      ]
    },
    {
      "cell_type": "markdown",
      "metadata": {
        "id": "6RCJtiRcRCa5"
      },
      "source": [
        "## Problem 1  - Bayesian Linear regression on steroids\n",
        "\n",
        "The purpose of this problem is to demonstrate that we have learned enough to do very complicated things.\n",
        "In the first part, we will do Bayesian linear regression with radial basis functions (RBFs) in which we characterize the posterior of all parameters, including the length-scales of the RBFs.\n",
        "In the second part, we are going to build a model that has an input-varying noise. Such models are called heteroscedastic models.\n",
        "\n",
        "We need to write some `pytorch` code to compute the design matrix. This is absolutely necessary so that `pyro` can differentiate through all expressions."
      ]
    },
    {
      "cell_type": "code",
      "execution_count": 5,
      "metadata": {
        "id": "4Oc1uwRzRCa6"
      },
      "outputs": [],
      "source": [
        "class RadialBasisFunctions(torch.nn.Module):\n",
        "    \"\"\"Radial basis functions basis.\n",
        "\n",
        "    Arguments:\n",
        "    X   -  The centers of the radial basis functions.\n",
        "    ell -  The assumed length scale.\n",
        "    \"\"\"\n",
        "    def __init__(self, X, ell):\n",
        "        super().__init__()\n",
        "        self.X = X\n",
        "        self.ell = ell\n",
        "        self.num_basis = X.shape[0]\n",
        "    def forward(self, x):\n",
        "        distances = torch.cdist(x, self.X)\n",
        "        return torch.exp(-.5 * distances ** 2 / self.ell ** 2)"
      ]
    },
    {
      "cell_type": "markdown",
      "metadata": {
        "id": "0vvhcjlqRCa6"
      },
      "source": [
        "Here is how you can use them:"
      ]
    },
    {
      "cell_type": "code",
      "execution_count": 6,
      "metadata": {
        "colab": {
          "base_uri": "https://localhost:8080/"
        },
        "id": "EBzwVfXeRCa7",
        "outputId": "205fc3ab-4bc8-451b-a043-99d45e65b04c"
      },
      "outputs": [
        {
          "output_type": "stream",
          "name": "stdout",
          "text": [
            "torch.Size([100, 10])\n"
          ]
        }
      ],
      "source": [
        "# Make the basis\n",
        "x_centers = torch.linspace(-1, 1, 10).unsqueeze(-1)\n",
        "ell = 0.2\n",
        "basis = RadialBasisFunctions(x_centers, ell)\n",
        "\n",
        "# Some points (need to be N x 1)\n",
        "x = torch.linspace(-1, 1, 100).unsqueeze(-1)\n",
        "\n",
        "# Evaluate the basis\n",
        "Phi = basis(x)\n",
        "\n",
        "# Here is the shape of Phi\n",
        "print(Phi.shape)"
      ]
    },
    {
      "cell_type": "markdown",
      "metadata": {
        "id": "u4sQKdRNRCa8"
      },
      "source": [
        "Here is how they look like:"
      ]
    },
    {
      "cell_type": "code",
      "execution_count": 7,
      "metadata": {
        "colab": {
          "base_uri": "https://localhost:8080/",
          "height": 478
        },
        "id": "HgtMHXlHRCa8",
        "outputId": "6035814e-3937-4c96-fcec-daaed1b1888f"
      },
      "outputs": [
        {
          "output_type": "display_data",
          "data": {
            "text/plain": [
              "<Figure size 3840x2880 with 1 Axes>"
            ],
            "image/svg+xml": "<?xml version=\"1.0\" encoding=\"utf-8\" standalone=\"no\"?>\n<!DOCTYPE svg PUBLIC \"-//W3C//DTD SVG 1.1//EN\"\n  \"http://www.w3.org/Graphics/SVG/1.1/DTD/svg11.dtd\">\n<svg xmlns:xlink=\"http://www.w3.org/1999/xlink\" width=\"457.92pt\" height=\"342.72pt\" viewBox=\"0 0 457.92 342.72\" xmlns=\"http://www.w3.org/2000/svg\" version=\"1.1\">\n <metadata>\n  <rdf:RDF xmlns:dc=\"http://purl.org/dc/elements/1.1/\" xmlns:cc=\"http://creativecommons.org/ns#\" xmlns:rdf=\"http://www.w3.org/1999/02/22-rdf-syntax-ns#\">\n   <cc:Work>\n    <dc:type rdf:resource=\"http://purl.org/dc/dcmitype/StillImage\"/>\n    <dc:date>2025-08-10T00:19:09.728149</dc:date>\n    <dc:format>image/svg+xml</dc:format>\n    <dc:creator>\n     <cc:Agent>\n      <dc:title>Matplotlib v3.10.0, https://matplotlib.org/</dc:title>\n     </cc:Agent>\n    </dc:creator>\n   </cc:Work>\n  </rdf:RDF>\n </metadata>\n <defs>\n  <style type=\"text/css\">*{stroke-linejoin: round; stroke-linecap: butt}</style>\n </defs>\n <g id=\"figure_1\">\n  <g id=\"patch_1\">\n   <path d=\"M 0 342.72 \nL 457.92 342.72 \nL 457.92 0 \nL 0 0 \nz\n\" style=\"fill: #ffffff\"/>\n  </g>\n  <g id=\"axes_1\">\n   <g id=\"patch_2\">\n    <path d=\"M 33.592188 313.502812 \nL 450.72 313.502812 \nL 450.72 7.2 \nL 33.592188 7.2 \nz\n\" style=\"fill: #ffffff\"/>\n   </g>\n   <g id=\"matplotlib.axis_1\">\n    <g id=\"xtick_1\">\n     <g id=\"line2d_1\"/>\n     <g id=\"text_1\">\n      <!-- −1.00 -->\n      <g style=\"fill: #262626\" transform=\"translate(41.826683 322.321719) scale(0.07 -0.07)\">\n       <defs>\n        <path id=\"DejaVuSerif-2212\" d=\"M 678 2259 \nL 4684 2259 \nL 4684 1753 \nL 678 1753 \nL 678 2259 \nz\n\" transform=\"scale(0.015625)\"/>\n        <path id=\"DejaVuSerif-31\" d=\"M 909 0 \nL 909 331 \nL 1722 331 \nL 1722 4213 \nL 781 3603 \nL 781 4013 \nL 1919 4750 \nL 2350 4750 \nL 2350 331 \nL 3163 331 \nL 3163 0 \nL 909 0 \nz\n\" transform=\"scale(0.015625)\"/>\n        <path id=\"DejaVuSerif-2e\" d=\"M 603 325 \nQ 603 500 722 622 \nQ 841 744 1019 744 \nQ 1191 744 1312 622 \nQ 1434 500 1434 325 \nQ 1434 153 1312 31 \nQ 1191 -91 1019 -91 \nQ 841 -91 722 29 \nQ 603 150 603 325 \nz\n\" transform=\"scale(0.015625)\"/>\n        <path id=\"DejaVuSerif-30\" d=\"M 2034 219 \nQ 2513 219 2750 744 \nQ 2988 1269 2988 2328 \nQ 2988 3391 2750 3916 \nQ 2513 4441 2034 4441 \nQ 1556 4441 1318 3916 \nQ 1081 3391 1081 2328 \nQ 1081 1269 1318 744 \nQ 1556 219 2034 219 \nz\nM 2034 -91 \nQ 1275 -91 848 546 \nQ 422 1184 422 2328 \nQ 422 3475 848 4112 \nQ 1275 4750 2034 4750 \nQ 2797 4750 3222 4112 \nQ 3647 3475 3647 2328 \nQ 3647 1184 3222 546 \nQ 2797 -91 2034 -91 \nz\n\" transform=\"scale(0.015625)\"/>\n       </defs>\n       <use xlink:href=\"#DejaVuSerif-2212\"/>\n       <use xlink:href=\"#DejaVuSerif-31\" transform=\"translate(83.789062 0)\"/>\n       <use xlink:href=\"#DejaVuSerif-2e\" transform=\"translate(147.412109 0)\"/>\n       <use xlink:href=\"#DejaVuSerif-30\" transform=\"translate(179.199219 0)\"/>\n       <use xlink:href=\"#DejaVuSerif-30\" transform=\"translate(242.822266 0)\"/>\n      </g>\n     </g>\n    </g>\n    <g id=\"xtick_2\">\n     <g id=\"line2d_2\"/>\n     <g id=\"text_2\">\n      <!-- −0.75 -->\n      <g style=\"fill: #262626\" transform=\"translate(89.227571 322.321719) scale(0.07 -0.07)\">\n       <defs>\n        <path id=\"DejaVuSerif-37\" d=\"M 3609 4347 \nL 1784 0 \nL 1319 0 \nL 3059 4153 \nL 903 4153 \nL 903 3578 \nL 538 3578 \nL 538 4666 \nL 3609 4666 \nL 3609 4347 \nz\n\" transform=\"scale(0.015625)\"/>\n        <path id=\"DejaVuSerif-35\" d=\"M 3219 4666 \nL 3219 4153 \nL 1081 4153 \nL 1081 2816 \nQ 1244 2928 1461 2984 \nQ 1678 3041 1947 3041 \nQ 2703 3041 3140 2622 \nQ 3578 2203 3578 1478 \nQ 3578 738 3136 323 \nQ 2694 -91 1894 -91 \nQ 1572 -91 1234 -12 \nQ 897 66 544 225 \nL 544 1131 \nL 897 1131 \nQ 925 688 1179 453 \nQ 1434 219 1894 219 \nQ 2388 219 2653 544 \nQ 2919 869 2919 1478 \nQ 2919 2084 2655 2407 \nQ 2391 2731 1894 2731 \nQ 1613 2731 1398 2631 \nQ 1184 2531 1019 2322 \nL 750 2322 \nL 750 4666 \nL 3219 4666 \nz\n\" transform=\"scale(0.015625)\"/>\n       </defs>\n       <use xlink:href=\"#DejaVuSerif-2212\"/>\n       <use xlink:href=\"#DejaVuSerif-30\" transform=\"translate(83.789062 0)\"/>\n       <use xlink:href=\"#DejaVuSerif-2e\" transform=\"translate(147.412109 0)\"/>\n       <use xlink:href=\"#DejaVuSerif-37\" transform=\"translate(179.199219 0)\"/>\n       <use xlink:href=\"#DejaVuSerif-35\" transform=\"translate(242.822266 0)\"/>\n      </g>\n     </g>\n    </g>\n    <g id=\"xtick_3\">\n     <g id=\"line2d_3\"/>\n     <g id=\"text_3\">\n      <!-- −0.50 -->\n      <g style=\"fill: #262626\" transform=\"translate(136.628459 322.321719) scale(0.07 -0.07)\">\n       <use xlink:href=\"#DejaVuSerif-2212\"/>\n       <use xlink:href=\"#DejaVuSerif-30\" transform=\"translate(83.789062 0)\"/>\n       <use xlink:href=\"#DejaVuSerif-2e\" transform=\"translate(147.412109 0)\"/>\n       <use xlink:href=\"#DejaVuSerif-35\" transform=\"translate(179.199219 0)\"/>\n       <use xlink:href=\"#DejaVuSerif-30\" transform=\"translate(242.822266 0)\"/>\n      </g>\n     </g>\n    </g>\n    <g id=\"xtick_4\">\n     <g id=\"line2d_4\"/>\n     <g id=\"text_4\">\n      <!-- −0.25 -->\n      <g style=\"fill: #262626\" transform=\"translate(184.029347 322.321719) scale(0.07 -0.07)\">\n       <defs>\n        <path id=\"DejaVuSerif-32\" d=\"M 819 3553 \nL 469 3553 \nL 469 4384 \nQ 803 4563 1142 4656 \nQ 1481 4750 1806 4750 \nQ 2534 4750 2956 4397 \nQ 3378 4044 3378 3438 \nQ 3378 2753 2422 1800 \nQ 2347 1728 2309 1691 \nL 1131 513 \nL 3078 513 \nL 3078 1088 \nL 3444 1088 \nL 3444 0 \nL 434 0 \nL 434 341 \nL 1850 1753 \nQ 2319 2222 2519 2614 \nQ 2719 3006 2719 3438 \nQ 2719 3909 2473 4175 \nQ 2228 4441 1797 4441 \nQ 1350 4441 1106 4219 \nQ 863 3997 819 3553 \nz\n\" transform=\"scale(0.015625)\"/>\n       </defs>\n       <use xlink:href=\"#DejaVuSerif-2212\"/>\n       <use xlink:href=\"#DejaVuSerif-30\" transform=\"translate(83.789062 0)\"/>\n       <use xlink:href=\"#DejaVuSerif-2e\" transform=\"translate(147.412109 0)\"/>\n       <use xlink:href=\"#DejaVuSerif-32\" transform=\"translate(179.199219 0)\"/>\n       <use xlink:href=\"#DejaVuSerif-35\" transform=\"translate(242.822266 0)\"/>\n      </g>\n     </g>\n    </g>\n    <g id=\"xtick_5\">\n     <g id=\"line2d_5\"/>\n     <g id=\"text_5\">\n      <!-- 0.00 -->\n      <g style=\"fill: #262626\" transform=\"translate(234.363125 322.321719) scale(0.07 -0.07)\">\n       <use xlink:href=\"#DejaVuSerif-30\"/>\n       <use xlink:href=\"#DejaVuSerif-2e\" transform=\"translate(63.623047 0)\"/>\n       <use xlink:href=\"#DejaVuSerif-30\" transform=\"translate(95.410156 0)\"/>\n       <use xlink:href=\"#DejaVuSerif-30\" transform=\"translate(159.033203 0)\"/>\n      </g>\n     </g>\n    </g>\n    <g id=\"xtick_6\">\n     <g id=\"line2d_6\"/>\n     <g id=\"text_6\">\n      <!-- 0.25 -->\n      <g style=\"fill: #262626\" transform=\"translate(281.764013 322.321719) scale(0.07 -0.07)\">\n       <use xlink:href=\"#DejaVuSerif-30\"/>\n       <use xlink:href=\"#DejaVuSerif-2e\" transform=\"translate(63.623047 0)\"/>\n       <use xlink:href=\"#DejaVuSerif-32\" transform=\"translate(95.410156 0)\"/>\n       <use xlink:href=\"#DejaVuSerif-35\" transform=\"translate(159.033203 0)\"/>\n      </g>\n     </g>\n    </g>\n    <g id=\"xtick_7\">\n     <g id=\"line2d_7\"/>\n     <g id=\"text_7\">\n      <!-- 0.50 -->\n      <g style=\"fill: #262626\" transform=\"translate(329.164901 322.321719) scale(0.07 -0.07)\">\n       <use xlink:href=\"#DejaVuSerif-30\"/>\n       <use xlink:href=\"#DejaVuSerif-2e\" transform=\"translate(63.623047 0)\"/>\n       <use xlink:href=\"#DejaVuSerif-35\" transform=\"translate(95.410156 0)\"/>\n       <use xlink:href=\"#DejaVuSerif-30\" transform=\"translate(159.033203 0)\"/>\n      </g>\n     </g>\n    </g>\n    <g id=\"xtick_8\">\n     <g id=\"line2d_8\"/>\n     <g id=\"text_8\">\n      <!-- 0.75 -->\n      <g style=\"fill: #262626\" transform=\"translate(376.565788 322.321719) scale(0.07 -0.07)\">\n       <use xlink:href=\"#DejaVuSerif-30\"/>\n       <use xlink:href=\"#DejaVuSerif-2e\" transform=\"translate(63.623047 0)\"/>\n       <use xlink:href=\"#DejaVuSerif-37\" transform=\"translate(95.410156 0)\"/>\n       <use xlink:href=\"#DejaVuSerif-35\" transform=\"translate(159.033203 0)\"/>\n      </g>\n     </g>\n    </g>\n    <g id=\"xtick_9\">\n     <g id=\"line2d_9\"/>\n     <g id=\"text_9\">\n      <!-- 1.00 -->\n      <g style=\"fill: #262626\" transform=\"translate(423.966676 322.321719) scale(0.07 -0.07)\">\n       <use xlink:href=\"#DejaVuSerif-31\"/>\n       <use xlink:href=\"#DejaVuSerif-2e\" transform=\"translate(63.623047 0)\"/>\n       <use xlink:href=\"#DejaVuSerif-30\" transform=\"translate(95.410156 0)\"/>\n       <use xlink:href=\"#DejaVuSerif-30\" transform=\"translate(159.033203 0)\"/>\n      </g>\n     </g>\n    </g>\n    <g id=\"text_10\">\n     <!-- $x$ -->\n     <g style=\"fill: #262626\" transform=\"translate(239.756094 333.85625) scale(0.08 -0.08)\">\n      <defs>\n       <path id=\"DejaVuSans-Oblique-78\" d=\"M 3841 3500 \nL 2234 1784 \nL 3219 0 \nL 2559 0 \nL 1819 1388 \nL 531 0 \nL -166 0 \nL 1556 1844 \nL 641 3500 \nL 1300 3500 \nL 1972 2234 \nL 3144 3500 \nL 3841 3500 \nz\n\" transform=\"scale(0.015625)\"/>\n      </defs>\n      <use xlink:href=\"#DejaVuSans-Oblique-78\" transform=\"translate(0 0.3125)\"/>\n     </g>\n    </g>\n   </g>\n   <g id=\"matplotlib.axis_2\">\n    <g id=\"ytick_1\">\n     <g id=\"line2d_10\"/>\n     <g id=\"text_11\">\n      <!-- 0.0 -->\n      <g style=\"fill: #262626\" transform=\"translate(18.96 302.239411) scale(0.07 -0.07)\">\n       <use xlink:href=\"#DejaVuSerif-30\"/>\n       <use xlink:href=\"#DejaVuSerif-2e\" transform=\"translate(63.623047 0)\"/>\n       <use xlink:href=\"#DejaVuSerif-30\" transform=\"translate(95.410156 0)\"/>\n      </g>\n     </g>\n    </g>\n    <g id=\"ytick_2\">\n     <g id=\"line2d_11\"/>\n     <g id=\"text_12\">\n      <!-- 0.2 -->\n      <g style=\"fill: #262626\" transform=\"translate(18.96 246.54799) scale(0.07 -0.07)\">\n       <use xlink:href=\"#DejaVuSerif-30\"/>\n       <use xlink:href=\"#DejaVuSerif-2e\" transform=\"translate(63.623047 0)\"/>\n       <use xlink:href=\"#DejaVuSerif-32\" transform=\"translate(95.410156 0)\"/>\n      </g>\n     </g>\n    </g>\n    <g id=\"ytick_3\">\n     <g id=\"line2d_12\"/>\n     <g id=\"text_13\">\n      <!-- 0.4 -->\n      <g style=\"fill: #262626\" transform=\"translate(18.96 190.85657) scale(0.07 -0.07)\">\n       <defs>\n        <path id=\"DejaVuSerif-34\" d=\"M 2234 1581 \nL 2234 4063 \nL 641 1581 \nL 2234 1581 \nz\nM 3609 0 \nL 1484 0 \nL 1484 331 \nL 2234 331 \nL 2234 1247 \nL 197 1247 \nL 197 1588 \nL 2241 4750 \nL 2859 4750 \nL 2859 1581 \nL 3750 1581 \nL 3750 1247 \nL 2859 1247 \nL 2859 331 \nL 3609 331 \nL 3609 0 \nz\n\" transform=\"scale(0.015625)\"/>\n       </defs>\n       <use xlink:href=\"#DejaVuSerif-30\"/>\n       <use xlink:href=\"#DejaVuSerif-2e\" transform=\"translate(63.623047 0)\"/>\n       <use xlink:href=\"#DejaVuSerif-34\" transform=\"translate(95.410156 0)\"/>\n      </g>\n     </g>\n    </g>\n    <g id=\"ytick_4\">\n     <g id=\"line2d_13\"/>\n     <g id=\"text_14\">\n      <!-- 0.6 -->\n      <g style=\"fill: #262626\" transform=\"translate(18.96 135.165149) scale(0.07 -0.07)\">\n       <defs>\n        <path id=\"DejaVuSerif-36\" d=\"M 2094 219 \nQ 2534 219 2771 542 \nQ 3009 866 3009 1472 \nQ 3009 2078 2771 2401 \nQ 2534 2725 2094 2725 \nQ 1647 2725 1412 2412 \nQ 1178 2100 1178 1509 \nQ 1178 888 1415 553 \nQ 1653 219 2094 219 \nz\nM 1075 2569 \nQ 1288 2803 1556 2918 \nQ 1825 3034 2163 3034 \nQ 2859 3034 3264 2615 \nQ 3669 2197 3669 1472 \nQ 3669 763 3233 336 \nQ 2797 -91 2069 -91 \nQ 1278 -91 853 498 \nQ 428 1088 428 2181 \nQ 428 3406 931 4078 \nQ 1434 4750 2350 4750 \nQ 2597 4750 2869 4703 \nQ 3141 4656 3425 4563 \nL 3425 3794 \nL 3072 3794 \nQ 3034 4109 2831 4275 \nQ 2628 4441 2284 4441 \nQ 1678 4441 1381 3981 \nQ 1084 3522 1075 2569 \nz\n\" transform=\"scale(0.015625)\"/>\n       </defs>\n       <use xlink:href=\"#DejaVuSerif-30\"/>\n       <use xlink:href=\"#DejaVuSerif-2e\" transform=\"translate(63.623047 0)\"/>\n       <use xlink:href=\"#DejaVuSerif-36\" transform=\"translate(95.410156 0)\"/>\n      </g>\n     </g>\n    </g>\n    <g id=\"ytick_5\">\n     <g id=\"line2d_14\"/>\n     <g id=\"text_15\">\n      <!-- 0.8 -->\n      <g style=\"fill: #262626\" transform=\"translate(18.96 79.473729) scale(0.07 -0.07)\">\n       <defs>\n        <path id=\"DejaVuSerif-38\" d=\"M 2981 1275 \nQ 2981 1775 2732 2051 \nQ 2484 2328 2034 2328 \nQ 1584 2328 1336 2051 \nQ 1088 1775 1088 1275 \nQ 1088 772 1336 495 \nQ 1584 219 2034 219 \nQ 2484 219 2732 495 \nQ 2981 772 2981 1275 \nz\nM 2853 3541 \nQ 2853 3966 2637 4203 \nQ 2422 4441 2034 4441 \nQ 1650 4441 1433 4203 \nQ 1216 3966 1216 3541 \nQ 1216 3113 1433 2875 \nQ 1650 2638 2034 2638 \nQ 2422 2638 2637 2875 \nQ 2853 3113 2853 3541 \nz\nM 2516 2484 \nQ 3047 2413 3344 2092 \nQ 3641 1772 3641 1275 \nQ 3641 619 3225 264 \nQ 2809 -91 2034 -91 \nQ 1263 -91 845 264 \nQ 428 619 428 1275 \nQ 428 1772 725 2092 \nQ 1022 2413 1556 2484 \nQ 1084 2569 832 2842 \nQ 581 3116 581 3541 \nQ 581 4103 968 4426 \nQ 1356 4750 2034 4750 \nQ 2713 4750 3100 4426 \nQ 3488 4103 3488 3541 \nQ 3488 3116 3236 2842 \nQ 2984 2569 2516 2484 \nz\n\" transform=\"scale(0.015625)\"/>\n       </defs>\n       <use xlink:href=\"#DejaVuSerif-30\"/>\n       <use xlink:href=\"#DejaVuSerif-2e\" transform=\"translate(63.623047 0)\"/>\n       <use xlink:href=\"#DejaVuSerif-38\" transform=\"translate(95.410156 0)\"/>\n      </g>\n     </g>\n    </g>\n    <g id=\"ytick_6\">\n     <g id=\"line2d_15\"/>\n     <g id=\"text_16\">\n      <!-- 1.0 -->\n      <g style=\"fill: #262626\" transform=\"translate(18.96 23.782308) scale(0.07 -0.07)\">\n       <use xlink:href=\"#DejaVuSerif-31\"/>\n       <use xlink:href=\"#DejaVuSerif-2e\" transform=\"translate(63.623047 0)\"/>\n       <use xlink:href=\"#DejaVuSerif-30\" transform=\"translate(95.410156 0)\"/>\n      </g>\n     </g>\n    </g>\n    <g id=\"text_17\">\n     <!-- $\\phi(x)$ -->\n     <g style=\"fill: #262626\" transform=\"translate(13.28 168.511406) rotate(-90) scale(0.08 -0.08)\">\n      <defs>\n       <path id=\"DejaVuSans-Oblique-3d5\" d=\"M 2991 4863 \nL 2738 3572 \nQ 3363 3572 3684 3094 \nQ 4016 2606 3850 1747 \nQ 3681 888 3159 400 \nQ 2653 -78 2028 -78 \nL 1784 -1331 \nL 1213 -1331 \nL 1456 -78 \nQ 834 -78 509 400 \nQ 178 888 347 1747 \nQ 513 2606 1034 3094 \nQ 1544 3572 2166 3572 \nL 2419 4863 \nL 2991 4863 \nz\nM 2128 434 \nQ 2481 434 2784 756 \nQ 3116 1116 3244 1747 \nQ 3369 2372 3169 2738 \nQ 2991 3059 2638 3059 \nL 2128 434 \nz\nM 1556 434 \nL 2066 3059 \nQ 1716 3059 1413 2738 \nQ 1072 2372 953 1747 \nQ 834 1116 1028 756 \nQ 1203 434 1556 434 \nz\n\" transform=\"scale(0.015625)\"/>\n       <path id=\"DejaVuSans-28\" d=\"M 1984 4856 \nQ 1566 4138 1362 3434 \nQ 1159 2731 1159 2009 \nQ 1159 1288 1364 580 \nQ 1569 -128 1984 -844 \nL 1484 -844 \nQ 1016 -109 783 600 \nQ 550 1309 550 2009 \nQ 550 2706 781 3412 \nQ 1013 4119 1484 4856 \nL 1984 4856 \nz\n\" transform=\"scale(0.015625)\"/>\n       <path id=\"DejaVuSans-29\" d=\"M 513 4856 \nL 1013 4856 \nQ 1481 4119 1714 3412 \nQ 1947 2706 1947 2009 \nQ 1947 1309 1714 600 \nQ 1481 -109 1013 -844 \nL 513 -844 \nQ 928 -128 1133 580 \nQ 1338 1288 1338 2009 \nQ 1338 2731 1133 3434 \nQ 928 4138 513 4856 \nz\n\" transform=\"scale(0.015625)\"/>\n      </defs>\n      <use xlink:href=\"#DejaVuSans-Oblique-3d5\" transform=\"translate(0 0.015625)\"/>\n      <use xlink:href=\"#DejaVuSans-28\" transform=\"translate(65.966797 0.015625)\"/>\n      <use xlink:href=\"#DejaVuSans-Oblique-78\" transform=\"translate(104.980469 0.015625)\"/>\n      <use xlink:href=\"#DejaVuSans-29\" transform=\"translate(164.160156 0.015625)\"/>\n     </g>\n    </g>\n   </g>\n   <g id=\"line2d_16\">\n    <path d=\"M 52.552543 21.122855 \nL 56.382921 22.53977 \nL 60.213289 26.747576 \nL 64.043667 33.618724 \nL 67.874046 42.948784 \nL 71.704413 54.465394 \nL 75.534792 67.841486 \nL 79.365171 82.711804 \nL 83.195538 98.688068 \nL 87.025917 115.376541 \nL 90.856295 132.393193 \nL 94.686663 149.378044 \nL 98.517041 166.007389 \nL 102.34742 182.001404 \nL 106.177787 197.130839 \nL 110.008166 211.219745 \nL 113.838533 224.144639 \nL 117.668912 235.832757 \nL 121.499291 246.256769 \nL 125.329658 255.428963 \nL 129.160037 263.39456 \nL 132.990415 270.224063 \nL 136.820783 276.006339 \nL 140.651161 280.841844 \nL 144.48154 284.836673 \nL 148.311913 288.097583 \nL 152.142286 290.72802 \nL 155.972659 292.825138 \nL 159.803037 294.477759 \nL 163.63341 295.765168 \nL 167.463784 296.756689 \nL 171.294162 297.511706 \nL 175.124535 298.080194 \nL 178.954908 298.503464 \nL 182.785287 298.815121 \nL 186.61566 299.042066 \nL 190.446033 299.205511 \nL 194.276411 299.321937 \nL 198.106784 299.403968 \nL 201.937157 299.461138 \nL 205.767533 299.50055 \nL 209.597909 299.527428 \nL 213.428282 299.545562 \nL 217.258658 299.557664 \nL 221.089032 299.565654 \nL 224.919407 299.570874 \nL 228.749783 299.574247 \nL 232.580157 299.576404 \nL 236.410531 299.577769 \nL 240.240906 299.578623 \nL 244.071281 299.579152 \nL 247.901656 299.579476 \nL 251.73203 299.579673 \nL 255.562405 299.579791 \nL 259.392781 299.579861 \nL 263.223155 299.579902 \nL 267.05353 299.579926 \nL 270.883905 299.57994 \nL 274.714278 299.579948 \nL 278.544654 299.579952 \nL 282.37503 299.579954 \nL 286.205403 299.579956 \nL 290.035776 299.579957 \nL 293.866155 299.579957 \nL 297.696528 299.579957 \nL 301.526901 299.579957 \nL 305.357279 299.579957 \nL 309.187652 299.579957 \nL 313.018025 299.579957 \nL 316.848404 299.579957 \nL 320.678777 299.579957 \nL 324.50915 299.579957 \nL 328.339529 299.579957 \nL 332.169902 299.579957 \nL 336.000275 299.579957 \nL 339.830648 299.579957 \nL 343.661026 299.579957 \nL 347.491405 299.579957 \nL 351.321772 299.579957 \nL 355.152151 299.579957 \nL 358.98253 299.579957 \nL 362.812897 299.579957 \nL 366.643276 299.579957 \nL 370.473654 299.579957 \nL 374.304022 299.579957 \nL 378.1344 299.579957 \nL 381.964768 299.579957 \nL 385.795146 299.579957 \nL 389.625525 299.579957 \nL 393.455892 299.579957 \nL 397.286271 299.579957 \nL 401.11665 299.579957 \nL 404.947017 299.579957 \nL 408.777396 299.579957 \nL 412.607774 299.579957 \nL 416.438142 299.579957 \nL 420.26852 299.579957 \nL 424.098899 299.579957 \nL 427.929266 299.579957 \nL 431.759645 299.579957 \n\" clip-path=\"url(#pcc967838d2)\" style=\"fill: none; stroke: #4c72b0; stroke-linecap: round\"/>\n   </g>\n   <g id=\"line2d_17\">\n    <path d=\"M 52.552543 149.378044 \nL 56.382921 132.392944 \nL 60.213289 115.376541 \nL 64.043667 98.687919 \nL 67.874046 82.711804 \nL 71.704413 67.841486 \nL 75.534792 54.465012 \nL 79.365171 42.948784 \nL 83.195538 33.618525 \nL 87.025917 26.747576 \nL 90.856295 22.53977 \nL 94.686663 21.122855 \nL 98.517041 22.53977 \nL 102.34742 26.747377 \nL 106.177787 33.618724 \nL 110.008166 42.948784 \nL 113.838533 54.465212 \nL 117.668912 67.841321 \nL 121.499291 82.711804 \nL 125.329658 98.688068 \nL 129.160037 115.376408 \nL 132.990415 132.39306 \nL 136.820783 149.378044 \nL 140.651161 166.007281 \nL 144.48154 182.001404 \nL 148.311913 197.130839 \nL 152.142286 211.219745 \nL 155.972659 224.144639 \nL 159.803037 235.832782 \nL 163.63341 246.256748 \nL 167.463784 255.428963 \nL 171.294162 263.39456 \nL 175.124535 270.224063 \nL 178.954908 276.006327 \nL 182.785287 280.84184 \nL 186.61566 284.836663 \nL 190.446033 288.097572 \nL 194.276411 290.72802 \nL 198.106784 292.825143 \nL 201.937157 294.477754 \nL 205.767533 295.765168 \nL 209.597909 296.756689 \nL 213.428282 297.511706 \nL 217.258658 298.080194 \nL 221.089032 298.503465 \nL 224.919407 298.815121 \nL 228.749783 299.042066 \nL 232.580157 299.205511 \nL 236.410531 299.321937 \nL 240.240906 299.403968 \nL 244.071281 299.461138 \nL 247.901656 299.50055 \nL 251.73203 299.527428 \nL 255.562405 299.545562 \nL 259.392781 299.557664 \nL 263.223155 299.565654 \nL 267.05353 299.570874 \nL 270.883905 299.574247 \nL 274.714278 299.576404 \nL 278.544654 299.577769 \nL 282.37503 299.578623 \nL 286.205403 299.579152 \nL 290.035776 299.579476 \nL 293.866155 299.579673 \nL 297.696528 299.579791 \nL 301.526901 299.579861 \nL 305.357279 299.579902 \nL 309.187652 299.579926 \nL 313.018025 299.57994 \nL 316.848404 299.579948 \nL 320.678777 299.579952 \nL 324.50915 299.579954 \nL 328.339529 299.579956 \nL 332.169902 299.579957 \nL 336.000275 299.579957 \nL 339.830648 299.579957 \nL 343.661026 299.579957 \nL 347.491405 299.579957 \nL 351.321772 299.579957 \nL 355.152151 299.579957 \nL 358.98253 299.579957 \nL 362.812897 299.579957 \nL 366.643276 299.579957 \nL 370.473654 299.579957 \nL 374.304022 299.579957 \nL 378.1344 299.579957 \nL 381.964768 299.579957 \nL 385.795146 299.579957 \nL 389.625525 299.579957 \nL 393.455892 299.579957 \nL 397.286271 299.579957 \nL 401.11665 299.579957 \nL 404.947017 299.579957 \nL 408.777396 299.579957 \nL 412.607774 299.579957 \nL 416.438142 299.579957 \nL 420.26852 299.579957 \nL 424.098899 299.579957 \nL 427.929266 299.579957 \nL 431.759645 299.579957 \n\" clip-path=\"url(#pcc967838d2)\" style=\"fill: none; stroke: #dd8452; stroke-linecap: round\"/>\n   </g>\n   <g id=\"line2d_18\">\n    <path d=\"M 52.552543 276.006333 \nL 56.382921 270.224055 \nL 60.213289 263.394568 \nL 64.043667 255.428926 \nL 67.874046 246.25671 \nL 71.704413 235.832828 \nL 75.534792 224.144664 \nL 79.365171 211.219654 \nL 83.195538 197.130797 \nL 87.025917 182.001354 \nL 90.856295 166.007339 \nL 94.686663 149.377994 \nL 98.517041 132.393126 \nL 102.34742 115.376474 \nL 106.177787 98.688002 \nL 110.008166 82.711804 \nL 113.838533 67.841486 \nL 117.668912 54.465212 \nL 121.499291 42.948884 \nL 125.329658 33.618824 \nL 129.160037 26.747377 \nL 132.990415 22.539869 \nL 136.820783 21.122855 \nL 140.651161 22.53977 \nL 144.48154 26.747576 \nL 148.311913 33.618724 \nL 152.142286 42.948884 \nL 155.972659 54.465295 \nL 159.803037 67.841569 \nL 163.63341 82.711804 \nL 167.463784 98.688151 \nL 171.294162 115.376474 \nL 175.124535 132.393126 \nL 178.954908 149.37811 \nL 182.785287 166.007389 \nL 186.61566 182.001354 \nL 190.446033 197.13088 \nL 194.276411 211.219737 \nL 198.106784 224.14473 \nL 201.937157 235.832811 \nL 205.767533 246.256769 \nL 209.597909 255.428984 \nL 213.428282 263.39456 \nL 217.258658 270.224063 \nL 221.089032 276.006349 \nL 224.919407 280.841844 \nL 228.749783 284.836666 \nL 232.580157 288.097583 \nL 236.410531 290.72802 \nL 240.240906 292.825143 \nL 244.071281 294.477759 \nL 247.901656 295.765168 \nL 251.73203 296.756689 \nL 255.562405 297.511708 \nL 259.392781 298.080194 \nL 263.223155 298.503465 \nL 267.05353 298.815122 \nL 270.883905 299.042066 \nL 274.714278 299.205511 \nL 278.544654 299.321937 \nL 282.37503 299.403968 \nL 286.205403 299.461138 \nL 290.035776 299.50055 \nL 293.866155 299.527428 \nL 297.696528 299.545562 \nL 301.526901 299.557664 \nL 305.357279 299.565654 \nL 309.187652 299.570874 \nL 313.018025 299.574247 \nL 316.848404 299.576405 \nL 320.678777 299.577769 \nL 324.50915 299.578623 \nL 328.339529 299.579152 \nL 332.169902 299.579476 \nL 336.000275 299.579673 \nL 339.830648 299.579791 \nL 343.661026 299.579861 \nL 347.491405 299.579902 \nL 351.321772 299.579926 \nL 355.152151 299.57994 \nL 358.98253 299.579948 \nL 362.812897 299.579952 \nL 366.643276 299.579954 \nL 370.473654 299.579956 \nL 374.304022 299.579957 \nL 378.1344 299.579957 \nL 381.964768 299.579957 \nL 385.795146 299.579957 \nL 389.625525 299.579957 \nL 393.455892 299.579957 \nL 397.286271 299.579957 \nL 401.11665 299.579957 \nL 404.947017 299.579957 \nL 408.777396 299.579957 \nL 412.607774 299.579957 \nL 416.438142 299.579957 \nL 420.26852 299.579957 \nL 424.098899 299.579957 \nL 427.929266 299.579957 \nL 431.759645 299.579957 \n\" clip-path=\"url(#pcc967838d2)\" style=\"fill: none; stroke: #55a868; stroke-linecap: round\"/>\n   </g>\n   <g id=\"line2d_19\">\n    <path d=\"M 52.552543 298.503465 \nL 56.382921 298.080194 \nL 60.213289 297.511708 \nL 64.043667 296.756689 \nL 67.874046 295.765168 \nL 71.704413 294.477763 \nL 75.534792 292.825143 \nL 79.365171 290.72802 \nL 83.195538 288.097583 \nL 87.025917 284.836673 \nL 90.856295 280.841844 \nL 94.686663 276.006339 \nL 98.517041 270.224063 \nL 102.34742 263.39456 \nL 106.177787 255.428984 \nL 110.008166 246.256769 \nL 113.838533 235.832828 \nL 117.668912 224.144722 \nL 121.499291 211.219745 \nL 125.329658 197.130897 \nL 129.160037 182.001354 \nL 132.990415 166.007372 \nL 136.820783 149.378144 \nL 140.651161 132.393159 \nL 144.48154 115.376524 \nL 148.311913 98.688118 \nL 152.142286 82.71182 \nL 155.972659 67.841603 \nL 159.803037 54.465378 \nL 163.63341 42.948851 \nL 167.463784 33.618807 \nL 171.294162 26.747444 \nL 175.124535 22.539786 \nL 178.954908 21.122888 \nL 182.785287 22.53982 \nL 186.61566 26.747477 \nL 190.446033 33.618774 \nL 194.276411 42.948851 \nL 198.106784 54.465295 \nL 201.937157 67.84152 \nL 205.767533 82.711787 \nL 209.597909 98.688085 \nL 213.428282 115.376474 \nL 217.258658 132.393093 \nL 221.089032 149.378094 \nL 224.919407 166.007347 \nL 228.749783 182.001321 \nL 232.580157 197.130855 \nL 236.410531 211.21972 \nL 240.240906 224.144672 \nL 244.071281 235.832782 \nL 247.901656 246.256748 \nL 251.73203 255.428963 \nL 255.562405 263.394535 \nL 259.392781 270.224055 \nL 263.223155 276.006333 \nL 267.05353 280.841836 \nL 270.883905 284.836663 \nL 274.714278 288.097572 \nL 278.544654 290.72802 \nL 282.37503 292.825138 \nL 286.205403 294.477754 \nL 290.035776 295.765168 \nL 293.866155 296.756689 \nL 297.696528 297.511706 \nL 301.526901 298.080194 \nL 305.357279 298.503464 \nL 309.187652 298.815121 \nL 313.018025 299.042066 \nL 316.848404 299.205511 \nL 320.678777 299.321937 \nL 324.50915 299.403968 \nL 328.339529 299.461138 \nL 332.169902 299.50055 \nL 336.000275 299.527428 \nL 339.830648 299.545561 \nL 343.661026 299.557664 \nL 347.491405 299.565654 \nL 351.321772 299.570874 \nL 355.152151 299.574247 \nL 358.98253 299.576404 \nL 362.812897 299.577769 \nL 366.643276 299.578623 \nL 370.473654 299.579152 \nL 374.304022 299.579476 \nL 378.1344 299.579673 \nL 381.964768 299.579791 \nL 385.795146 299.579861 \nL 389.625525 299.579902 \nL 393.455892 299.579926 \nL 397.286271 299.57994 \nL 401.11665 299.579948 \nL 404.947017 299.579952 \nL 408.777396 299.579954 \nL 412.607774 299.579956 \nL 416.438142 299.579957 \nL 420.26852 299.579957 \nL 424.098899 299.579957 \nL 427.929266 299.579957 \nL 431.759645 299.579957 \n\" clip-path=\"url(#pcc967838d2)\" style=\"fill: none; stroke: #c44e52; stroke-linecap: round\"/>\n   </g>\n   <g id=\"line2d_20\">\n    <path d=\"M 52.552543 299.565654 \nL 56.382921 299.557664 \nL 60.213289 299.545562 \nL 64.043667 299.527428 \nL 67.874046 299.50055 \nL 71.704413 299.461138 \nL 75.534792 299.403968 \nL 79.365171 299.321937 \nL 83.195538 299.205511 \nL 87.025917 299.042066 \nL 90.856295 298.815121 \nL 94.686663 298.503465 \nL 98.517041 298.080194 \nL 102.34742 297.511706 \nL 106.177787 296.756689 \nL 110.008166 295.765168 \nL 113.838533 294.477759 \nL 117.668912 292.825143 \nL 121.499291 290.72802 \nL 125.329658 288.097583 \nL 129.160037 284.836663 \nL 132.990415 280.84184 \nL 136.820783 276.006349 \nL 140.651161 270.224063 \nL 144.48154 263.394535 \nL 148.311913 255.428963 \nL 152.142286 246.256769 \nL 155.972659 235.832811 \nL 159.803037 224.144689 \nL 163.63341 211.219737 \nL 167.463784 197.13088 \nL 171.294162 182.001354 \nL 175.124535 166.007372 \nL 178.954908 149.378127 \nL 182.785287 132.393126 \nL 186.61566 115.376508 \nL 190.446033 98.688101 \nL 194.276411 82.71182 \nL 198.106784 67.841536 \nL 201.937157 54.465328 \nL 205.767533 42.948851 \nL 209.597909 33.618791 \nL 213.428282 26.747493 \nL 217.258658 22.539786 \nL 221.089032 21.122855 \nL 224.919407 22.539786 \nL 228.749783 26.747493 \nL 232.580157 33.618774 \nL 236.410531 42.948851 \nL 240.240906 54.465311 \nL 244.071281 67.84152 \nL 247.901656 82.71182 \nL 251.73203 98.688101 \nL 255.562405 115.376491 \nL 259.392781 132.393126 \nL 263.223155 149.37811 \nL 267.05353 166.007364 \nL 270.883905 182.001354 \nL 274.714278 197.130855 \nL 278.544654 211.219737 \nL 282.37503 224.144689 \nL 286.205403 235.832791 \nL 290.035776 246.256748 \nL 293.866155 255.428963 \nL 297.696528 263.394535 \nL 301.526901 270.224055 \nL 305.357279 276.006339 \nL 309.187652 280.84184 \nL 313.018025 284.836655 \nL 316.848404 288.097583 \nL 320.678777 290.72802 \nL 324.50915 292.825138 \nL 328.339529 294.477759 \nL 332.169902 295.765168 \nL 336.000275 296.756689 \nL 339.830648 297.511706 \nL 343.661026 298.080194 \nL 347.491405 298.503465 \nL 351.321772 298.815121 \nL 355.152151 299.042066 \nL 358.98253 299.205511 \nL 362.812897 299.321937 \nL 366.643276 299.403968 \nL 370.473654 299.461138 \nL 374.304022 299.50055 \nL 378.1344 299.527428 \nL 381.964768 299.545561 \nL 385.795146 299.557664 \nL 389.625525 299.565654 \nL 393.455892 299.570874 \nL 397.286271 299.574247 \nL 401.11665 299.576404 \nL 404.947017 299.577769 \nL 408.777396 299.578623 \nL 412.607774 299.579152 \nL 416.438142 299.579476 \nL 420.26852 299.579673 \nL 424.098899 299.579791 \nL 427.929266 299.579861 \nL 431.759645 299.579902 \n\" clip-path=\"url(#pcc967838d2)\" style=\"fill: none; stroke: #8172b3; stroke-linecap: round\"/>\n   </g>\n   <g id=\"line2d_21\">\n    <path d=\"M 52.552543 299.579902 \nL 56.382921 299.579861 \nL 60.213289 299.579791 \nL 64.043667 299.579673 \nL 67.874046 299.579476 \nL 71.704413 299.579152 \nL 75.534792 299.578623 \nL 79.365171 299.577769 \nL 83.195538 299.576404 \nL 87.025917 299.574247 \nL 90.856295 299.570874 \nL 94.686663 299.565654 \nL 98.517041 299.557664 \nL 102.34742 299.545561 \nL 106.177787 299.527428 \nL 110.008166 299.50055 \nL 113.838533 299.461138 \nL 117.668912 299.403968 \nL 121.499291 299.321937 \nL 125.329658 299.205511 \nL 129.160037 299.042066 \nL 132.990415 298.815121 \nL 136.820783 298.503465 \nL 140.651161 298.080194 \nL 144.48154 297.511706 \nL 148.311913 296.756689 \nL 152.142286 295.765168 \nL 155.972659 294.477759 \nL 159.803037 292.825138 \nL 163.63341 290.72802 \nL 167.463784 288.097583 \nL 171.294162 284.836655 \nL 175.124535 280.84184 \nL 178.954908 276.006339 \nL 182.785287 270.224055 \nL 186.61566 263.394535 \nL 190.446033 255.428963 \nL 194.276411 246.256748 \nL 198.106784 235.832791 \nL 201.937157 224.144689 \nL 205.767533 211.219737 \nL 209.597909 197.130855 \nL 213.428282 182.001354 \nL 217.258658 166.007364 \nL 221.089032 149.37811 \nL 224.919407 132.393126 \nL 228.749783 115.376491 \nL 232.580157 98.688101 \nL 236.410531 82.71182 \nL 240.240906 67.84152 \nL 244.071281 54.465311 \nL 247.901656 42.948851 \nL 251.73203 33.618774 \nL 255.562405 26.747493 \nL 259.392781 22.539786 \nL 263.223155 21.122855 \nL 267.05353 22.539786 \nL 270.883905 26.747493 \nL 274.714278 33.618791 \nL 278.544654 42.948851 \nL 282.37503 54.465328 \nL 286.205403 67.841536 \nL 290.035776 82.71182 \nL 293.866155 98.688101 \nL 297.696528 115.376508 \nL 301.526901 132.393126 \nL 305.357279 149.378127 \nL 309.187652 166.007372 \nL 313.018025 182.001354 \nL 316.848404 197.13088 \nL 320.678777 211.219737 \nL 324.50915 224.144689 \nL 328.339529 235.832811 \nL 332.169902 246.256769 \nL 336.000275 255.428963 \nL 339.830648 263.394535 \nL 343.661026 270.224063 \nL 347.491405 276.006349 \nL 351.321772 280.84184 \nL 355.152151 284.836663 \nL 358.98253 288.097583 \nL 362.812897 290.72802 \nL 366.643276 292.825143 \nL 370.473654 294.477759 \nL 374.304022 295.765168 \nL 378.1344 296.756689 \nL 381.964768 297.511706 \nL 385.795146 298.080194 \nL 389.625525 298.503465 \nL 393.455892 298.815121 \nL 397.286271 299.042066 \nL 401.11665 299.205511 \nL 404.947017 299.321937 \nL 408.777396 299.403968 \nL 412.607774 299.461138 \nL 416.438142 299.50055 \nL 420.26852 299.527428 \nL 424.098899 299.545562 \nL 427.929266 299.557664 \nL 431.759645 299.565654 \n\" clip-path=\"url(#pcc967838d2)\" style=\"fill: none; stroke: #937860; stroke-linecap: round\"/>\n   </g>\n   <g id=\"line2d_22\">\n    <path d=\"M 52.552543 299.579957 \nL 56.382921 299.579957 \nL 60.213289 299.579957 \nL 64.043667 299.579957 \nL 67.874046 299.579957 \nL 71.704413 299.579956 \nL 75.534792 299.579954 \nL 79.365171 299.579952 \nL 83.195538 299.579948 \nL 87.025917 299.57994 \nL 90.856295 299.579926 \nL 94.686663 299.579902 \nL 98.517041 299.579861 \nL 102.34742 299.579791 \nL 106.177787 299.579673 \nL 110.008166 299.579476 \nL 113.838533 299.579152 \nL 117.668912 299.578623 \nL 121.499291 299.577769 \nL 125.329658 299.576404 \nL 129.160037 299.574247 \nL 132.990415 299.570874 \nL 136.820783 299.565654 \nL 140.651161 299.557664 \nL 144.48154 299.545561 \nL 148.311913 299.527428 \nL 152.142286 299.50055 \nL 155.972659 299.461138 \nL 159.803037 299.403968 \nL 163.63341 299.321937 \nL 167.463784 299.205511 \nL 171.294162 299.042066 \nL 175.124535 298.815121 \nL 178.954908 298.503464 \nL 182.785287 298.080194 \nL 186.61566 297.511706 \nL 190.446033 296.756689 \nL 194.276411 295.765168 \nL 198.106784 294.477754 \nL 201.937157 292.825138 \nL 205.767533 290.72802 \nL 209.597909 288.097572 \nL 213.428282 284.836663 \nL 217.258658 280.841836 \nL 221.089032 276.006333 \nL 224.919407 270.224055 \nL 228.749783 263.394535 \nL 232.580157 255.428963 \nL 236.410531 246.256748 \nL 240.240906 235.832782 \nL 244.071281 224.144672 \nL 247.901656 211.21972 \nL 251.73203 197.130855 \nL 255.562405 182.001321 \nL 259.392781 166.007347 \nL 263.223155 149.378094 \nL 267.05353 132.393093 \nL 270.883905 115.376474 \nL 274.714278 98.688085 \nL 278.544654 82.711787 \nL 282.37503 67.84152 \nL 286.205403 54.465295 \nL 290.035776 42.948851 \nL 293.866155 33.618774 \nL 297.696528 26.747477 \nL 301.526901 22.53982 \nL 305.357279 21.122888 \nL 309.187652 22.539786 \nL 313.018025 26.747444 \nL 316.848404 33.618807 \nL 320.678777 42.948851 \nL 324.50915 54.465378 \nL 328.339529 67.841603 \nL 332.169902 82.71182 \nL 336.000275 98.688118 \nL 339.830648 115.376524 \nL 343.661026 132.393159 \nL 347.491405 149.378144 \nL 351.321772 166.007372 \nL 355.152151 182.001354 \nL 358.98253 197.130897 \nL 362.812897 211.219745 \nL 366.643276 224.144722 \nL 370.473654 235.832828 \nL 374.304022 246.256769 \nL 378.1344 255.428984 \nL 381.964768 263.39456 \nL 385.795146 270.224063 \nL 389.625525 276.006339 \nL 393.455892 280.841844 \nL 397.286271 284.836673 \nL 401.11665 288.097583 \nL 404.947017 290.72802 \nL 408.777396 292.825143 \nL 412.607774 294.477763 \nL 416.438142 295.765168 \nL 420.26852 296.756689 \nL 424.098899 297.511708 \nL 427.929266 298.080194 \nL 431.759645 298.503465 \n\" clip-path=\"url(#pcc967838d2)\" style=\"fill: none; stroke: #da8bc3; stroke-linecap: round\"/>\n   </g>\n   <g id=\"line2d_23\">\n    <path d=\"M 52.552543 299.579957 \nL 56.382921 299.579957 \nL 60.213289 299.579957 \nL 64.043667 299.579957 \nL 67.874046 299.579957 \nL 71.704413 299.579957 \nL 75.534792 299.579957 \nL 79.365171 299.579957 \nL 83.195538 299.579957 \nL 87.025917 299.579957 \nL 90.856295 299.579957 \nL 94.686663 299.579957 \nL 98.517041 299.579957 \nL 102.34742 299.579957 \nL 106.177787 299.579957 \nL 110.008166 299.579957 \nL 113.838533 299.579956 \nL 117.668912 299.579954 \nL 121.499291 299.579952 \nL 125.329658 299.579948 \nL 129.160037 299.57994 \nL 132.990415 299.579926 \nL 136.820783 299.579902 \nL 140.651161 299.579861 \nL 144.48154 299.579791 \nL 148.311913 299.579673 \nL 152.142286 299.579476 \nL 155.972659 299.579152 \nL 159.803037 299.578623 \nL 163.63341 299.577769 \nL 167.463784 299.576405 \nL 171.294162 299.574247 \nL 175.124535 299.570874 \nL 178.954908 299.565654 \nL 182.785287 299.557664 \nL 186.61566 299.545562 \nL 190.446033 299.527428 \nL 194.276411 299.50055 \nL 198.106784 299.461138 \nL 201.937157 299.403968 \nL 205.767533 299.321937 \nL 209.597909 299.205511 \nL 213.428282 299.042066 \nL 217.258658 298.815122 \nL 221.089032 298.503465 \nL 224.919407 298.080194 \nL 228.749783 297.511708 \nL 232.580157 296.756689 \nL 236.410531 295.765168 \nL 240.240906 294.477759 \nL 244.071281 292.825143 \nL 247.901656 290.72802 \nL 251.73203 288.097583 \nL 255.562405 284.836666 \nL 259.392781 280.841844 \nL 263.223155 276.006349 \nL 267.05353 270.224063 \nL 270.883905 263.39456 \nL 274.714278 255.428984 \nL 278.544654 246.256769 \nL 282.37503 235.832811 \nL 286.205403 224.14473 \nL 290.035776 211.219737 \nL 293.866155 197.13088 \nL 297.696528 182.001354 \nL 301.526901 166.007389 \nL 305.357279 149.37811 \nL 309.187652 132.393126 \nL 313.018025 115.376474 \nL 316.848404 98.688151 \nL 320.678777 82.711804 \nL 324.50915 67.841569 \nL 328.339529 54.465295 \nL 332.169902 42.948884 \nL 336.000275 33.618724 \nL 339.830648 26.747576 \nL 343.661026 22.53977 \nL 347.491405 21.122855 \nL 351.321772 22.539869 \nL 355.152151 26.747377 \nL 358.98253 33.618824 \nL 362.812897 42.948884 \nL 366.643276 54.465212 \nL 370.473654 67.841486 \nL 374.304022 82.711804 \nL 378.1344 98.688002 \nL 381.964768 115.376474 \nL 385.795146 132.393126 \nL 389.625525 149.377994 \nL 393.455892 166.007339 \nL 397.286271 182.001354 \nL 401.11665 197.130797 \nL 404.947017 211.219654 \nL 408.777396 224.144664 \nL 412.607774 235.832828 \nL 416.438142 246.25671 \nL 420.26852 255.428926 \nL 424.098899 263.394568 \nL 427.929266 270.224055 \nL 431.759645 276.006333 \n\" clip-path=\"url(#pcc967838d2)\" style=\"fill: none; stroke: #8c8c8c; stroke-linecap: round\"/>\n   </g>\n   <g id=\"line2d_24\">\n    <path d=\"M 52.552543 299.579957 \nL 56.382921 299.579957 \nL 60.213289 299.579957 \nL 64.043667 299.579957 \nL 67.874046 299.579957 \nL 71.704413 299.579957 \nL 75.534792 299.579957 \nL 79.365171 299.579957 \nL 83.195538 299.579957 \nL 87.025917 299.579957 \nL 90.856295 299.579957 \nL 94.686663 299.579957 \nL 98.517041 299.579957 \nL 102.34742 299.579957 \nL 106.177787 299.579957 \nL 110.008166 299.579957 \nL 113.838533 299.579957 \nL 117.668912 299.579957 \nL 121.499291 299.579957 \nL 125.329658 299.579957 \nL 129.160037 299.579957 \nL 132.990415 299.579957 \nL 136.820783 299.579957 \nL 140.651161 299.579957 \nL 144.48154 299.579957 \nL 148.311913 299.579957 \nL 152.142286 299.579957 \nL 155.972659 299.579956 \nL 159.803037 299.579954 \nL 163.63341 299.579952 \nL 167.463784 299.579948 \nL 171.294162 299.57994 \nL 175.124535 299.579926 \nL 178.954908 299.579902 \nL 182.785287 299.579861 \nL 186.61566 299.579791 \nL 190.446033 299.579673 \nL 194.276411 299.579476 \nL 198.106784 299.579152 \nL 201.937157 299.578623 \nL 205.767533 299.577769 \nL 209.597909 299.576404 \nL 213.428282 299.574247 \nL 217.258658 299.570874 \nL 221.089032 299.565654 \nL 224.919407 299.557664 \nL 228.749783 299.545562 \nL 232.580157 299.527428 \nL 236.410531 299.50055 \nL 240.240906 299.461138 \nL 244.071281 299.403968 \nL 247.901656 299.321937 \nL 251.73203 299.205511 \nL 255.562405 299.042066 \nL 259.392781 298.815121 \nL 263.223155 298.503465 \nL 267.05353 298.080194 \nL 270.883905 297.511706 \nL 274.714278 296.756689 \nL 278.544654 295.765168 \nL 282.37503 294.477754 \nL 286.205403 292.825143 \nL 290.035776 290.72802 \nL 293.866155 288.097572 \nL 297.696528 284.836663 \nL 301.526901 280.84184 \nL 305.357279 276.006327 \nL 309.187652 270.224063 \nL 313.018025 263.39456 \nL 316.848404 255.428963 \nL 320.678777 246.256748 \nL 324.50915 235.832782 \nL 328.339529 224.144639 \nL 332.169902 211.219745 \nL 336.000275 197.130839 \nL 339.830648 182.001404 \nL 343.661026 166.007281 \nL 347.491405 149.378044 \nL 351.321772 132.39306 \nL 355.152151 115.376408 \nL 358.98253 98.688068 \nL 362.812897 82.711804 \nL 366.643276 67.841321 \nL 370.473654 54.465212 \nL 374.304022 42.948784 \nL 378.1344 33.618724 \nL 381.964768 26.747377 \nL 385.795146 22.53977 \nL 389.625525 21.122855 \nL 393.455892 22.53977 \nL 397.286271 26.747576 \nL 401.11665 33.618525 \nL 404.947017 42.948784 \nL 408.777396 54.465012 \nL 412.607774 67.841486 \nL 416.438142 82.711804 \nL 420.26852 98.687919 \nL 424.098899 115.376541 \nL 427.929266 132.392944 \nL 431.759645 149.378044 \n\" clip-path=\"url(#pcc967838d2)\" style=\"fill: none; stroke: #ccb974; stroke-linecap: round\"/>\n   </g>\n   <g id=\"line2d_25\">\n    <path d=\"M 52.552543 299.579957 \nL 56.382921 299.579957 \nL 60.213289 299.579957 \nL 64.043667 299.579957 \nL 67.874046 299.579957 \nL 71.704413 299.579957 \nL 75.534792 299.579957 \nL 79.365171 299.579957 \nL 83.195538 299.579957 \nL 87.025917 299.579957 \nL 90.856295 299.579957 \nL 94.686663 299.579957 \nL 98.517041 299.579957 \nL 102.34742 299.579957 \nL 106.177787 299.579957 \nL 110.008166 299.579957 \nL 113.838533 299.579957 \nL 117.668912 299.579957 \nL 121.499291 299.579957 \nL 125.329658 299.579957 \nL 129.160037 299.579957 \nL 132.990415 299.579957 \nL 136.820783 299.579957 \nL 140.651161 299.579957 \nL 144.48154 299.579957 \nL 148.311913 299.579957 \nL 152.142286 299.579957 \nL 155.972659 299.579957 \nL 159.803037 299.579957 \nL 163.63341 299.579957 \nL 167.463784 299.579957 \nL 171.294162 299.579957 \nL 175.124535 299.579957 \nL 178.954908 299.579957 \nL 182.785287 299.579957 \nL 186.61566 299.579957 \nL 190.446033 299.579957 \nL 194.276411 299.579957 \nL 198.106784 299.579956 \nL 201.937157 299.579954 \nL 205.767533 299.579952 \nL 209.597909 299.579948 \nL 213.428282 299.57994 \nL 217.258658 299.579926 \nL 221.089032 299.579902 \nL 224.919407 299.579861 \nL 228.749783 299.579791 \nL 232.580157 299.579673 \nL 236.410531 299.579476 \nL 240.240906 299.579152 \nL 244.071281 299.578623 \nL 247.901656 299.577769 \nL 251.73203 299.576404 \nL 255.562405 299.574247 \nL 259.392781 299.570874 \nL 263.223155 299.565654 \nL 267.05353 299.557664 \nL 270.883905 299.545562 \nL 274.714278 299.527428 \nL 278.544654 299.50055 \nL 282.37503 299.461138 \nL 286.205403 299.403968 \nL 290.035776 299.321937 \nL 293.866155 299.205511 \nL 297.696528 299.042066 \nL 301.526901 298.815121 \nL 305.357279 298.503464 \nL 309.187652 298.080194 \nL 313.018025 297.511706 \nL 316.848404 296.756689 \nL 320.678777 295.765168 \nL 324.50915 294.477759 \nL 328.339529 292.825138 \nL 332.169902 290.72802 \nL 336.000275 288.097583 \nL 339.830648 284.836673 \nL 343.661026 280.841844 \nL 347.491405 276.006339 \nL 351.321772 270.224063 \nL 355.152151 263.39456 \nL 358.98253 255.428963 \nL 362.812897 246.256769 \nL 366.643276 235.832757 \nL 370.473654 224.144639 \nL 374.304022 211.219745 \nL 378.1344 197.130839 \nL 381.964768 182.001404 \nL 385.795146 166.007389 \nL 389.625525 149.378044 \nL 393.455892 132.393193 \nL 397.286271 115.376541 \nL 401.11665 98.688068 \nL 404.947017 82.711804 \nL 408.777396 67.841486 \nL 412.607774 54.465394 \nL 416.438142 42.948784 \nL 420.26852 33.618724 \nL 424.098899 26.747576 \nL 427.929266 22.53977 \nL 431.759645 21.122855 \n\" clip-path=\"url(#pcc967838d2)\" style=\"fill: none; stroke: #64b5cd; stroke-linecap: round\"/>\n   </g>\n   <g id=\"patch_3\">\n    <path d=\"M 33.592188 299.579957 \nL 33.592188 21.122855 \n\" style=\"fill: none; stroke: #262626; stroke-width: 0.5; stroke-linejoin: miter; stroke-linecap: square\"/>\n   </g>\n   <g id=\"patch_4\">\n    <path d=\"M 52.552543 313.502812 \nL 431.759645 313.502812 \n\" style=\"fill: none; stroke: #262626; stroke-width: 0.5; stroke-linejoin: miter; stroke-linecap: square\"/>\n   </g>\n   <g id=\"legend_1\">\n    <g id=\"line2d_26\">\n     <path d=\"M 416.84 113.521406 \nL 423.84 113.521406 \nL 430.84 113.521406 \n\" style=\"fill: none; stroke: #4c72b0; stroke-linecap: round\"/>\n    </g>\n    <g id=\"text_18\">\n     <!-- $\\phi_0$ -->\n     <g style=\"fill: #262626\" transform=\"translate(436.44 115.971406) scale(0.07 -0.07)\">\n      <defs>\n       <path id=\"DejaVuSans-30\" d=\"M 2034 4250 \nQ 1547 4250 1301 3770 \nQ 1056 3291 1056 2328 \nQ 1056 1369 1301 889 \nQ 1547 409 2034 409 \nQ 2525 409 2770 889 \nQ 3016 1369 3016 2328 \nQ 3016 3291 2770 3770 \nQ 2525 4250 2034 4250 \nz\nM 2034 4750 \nQ 2819 4750 3233 4129 \nQ 3647 3509 3647 2328 \nQ 3647 1150 3233 529 \nQ 2819 -91 2034 -91 \nQ 1250 -91 836 529 \nQ 422 1150 422 2328 \nQ 422 3509 836 4129 \nQ 1250 4750 2034 4750 \nz\n\" transform=\"scale(0.015625)\"/>\n      </defs>\n      <use xlink:href=\"#DejaVuSans-Oblique-3d5\" transform=\"translate(0 0.015625)\"/>\n      <use xlink:href=\"#DejaVuSans-30\" transform=\"translate(65.966797 -16.390625) scale(0.7)\"/>\n     </g>\n    </g>\n    <g id=\"line2d_27\">\n     <path d=\"M 416.84 123.811406 \nL 423.84 123.811406 \nL 430.84 123.811406 \n\" style=\"fill: none; stroke: #dd8452; stroke-linecap: round\"/>\n    </g>\n    <g id=\"text_19\">\n     <!-- $\\phi_1$ -->\n     <g style=\"fill: #262626\" transform=\"translate(436.44 126.261406) scale(0.07 -0.07)\">\n      <defs>\n       <path id=\"DejaVuSans-31\" d=\"M 794 531 \nL 1825 531 \nL 1825 4091 \nL 703 3866 \nL 703 4441 \nL 1819 4666 \nL 2450 4666 \nL 2450 531 \nL 3481 531 \nL 3481 0 \nL 794 0 \nL 794 531 \nz\n\" transform=\"scale(0.015625)\"/>\n      </defs>\n      <use xlink:href=\"#DejaVuSans-Oblique-3d5\" transform=\"translate(0 0.015625)\"/>\n      <use xlink:href=\"#DejaVuSans-31\" transform=\"translate(65.966797 -16.390625) scale(0.7)\"/>\n     </g>\n    </g>\n    <g id=\"line2d_28\">\n     <path d=\"M 416.84 134.101406 \nL 423.84 134.101406 \nL 430.84 134.101406 \n\" style=\"fill: none; stroke: #55a868; stroke-linecap: round\"/>\n    </g>\n    <g id=\"text_20\">\n     <!-- $\\phi_2$ -->\n     <g style=\"fill: #262626\" transform=\"translate(436.44 136.551406) scale(0.07 -0.07)\">\n      <defs>\n       <path id=\"DejaVuSans-32\" d=\"M 1228 531 \nL 3431 531 \nL 3431 0 \nL 469 0 \nL 469 531 \nQ 828 903 1448 1529 \nQ 2069 2156 2228 2338 \nQ 2531 2678 2651 2914 \nQ 2772 3150 2772 3378 \nQ 2772 3750 2511 3984 \nQ 2250 4219 1831 4219 \nQ 1534 4219 1204 4116 \nQ 875 4013 500 3803 \nL 500 4441 \nQ 881 4594 1212 4672 \nQ 1544 4750 1819 4750 \nQ 2544 4750 2975 4387 \nQ 3406 4025 3406 3419 \nQ 3406 3131 3298 2873 \nQ 3191 2616 2906 2266 \nQ 2828 2175 2409 1742 \nQ 1991 1309 1228 531 \nz\n\" transform=\"scale(0.015625)\"/>\n      </defs>\n      <use xlink:href=\"#DejaVuSans-Oblique-3d5\" transform=\"translate(0 0.015625)\"/>\n      <use xlink:href=\"#DejaVuSans-32\" transform=\"translate(65.966797 -16.390625) scale(0.7)\"/>\n     </g>\n    </g>\n    <g id=\"line2d_29\">\n     <path d=\"M 416.84 144.391406 \nL 423.84 144.391406 \nL 430.84 144.391406 \n\" style=\"fill: none; stroke: #c44e52; stroke-linecap: round\"/>\n    </g>\n    <g id=\"text_21\">\n     <!-- $\\phi_3$ -->\n     <g style=\"fill: #262626\" transform=\"translate(436.44 146.841406) scale(0.07 -0.07)\">\n      <defs>\n       <path id=\"DejaVuSans-33\" d=\"M 2597 2516 \nQ 3050 2419 3304 2112 \nQ 3559 1806 3559 1356 \nQ 3559 666 3084 287 \nQ 2609 -91 1734 -91 \nQ 1441 -91 1130 -33 \nQ 819 25 488 141 \nL 488 750 \nQ 750 597 1062 519 \nQ 1375 441 1716 441 \nQ 2309 441 2620 675 \nQ 2931 909 2931 1356 \nQ 2931 1769 2642 2001 \nQ 2353 2234 1838 2234 \nL 1294 2234 \nL 1294 2753 \nL 1863 2753 \nQ 2328 2753 2575 2939 \nQ 2822 3125 2822 3475 \nQ 2822 3834 2567 4026 \nQ 2313 4219 1838 4219 \nQ 1578 4219 1281 4162 \nQ 984 4106 628 3988 \nL 628 4550 \nQ 988 4650 1302 4700 \nQ 1616 4750 1894 4750 \nQ 2613 4750 3031 4423 \nQ 3450 4097 3450 3541 \nQ 3450 3153 3228 2886 \nQ 3006 2619 2597 2516 \nz\n\" transform=\"scale(0.015625)\"/>\n      </defs>\n      <use xlink:href=\"#DejaVuSans-Oblique-3d5\" transform=\"translate(0 0.015625)\"/>\n      <use xlink:href=\"#DejaVuSans-33\" transform=\"translate(65.966797 -16.390625) scale(0.7)\"/>\n     </g>\n    </g>\n    <g id=\"line2d_30\">\n     <path d=\"M 416.84 154.681406 \nL 423.84 154.681406 \nL 430.84 154.681406 \n\" style=\"fill: none; stroke: #8172b3; stroke-linecap: round\"/>\n    </g>\n    <g id=\"text_22\">\n     <!-- $\\phi_4$ -->\n     <g style=\"fill: #262626\" transform=\"translate(436.44 157.131406) scale(0.07 -0.07)\">\n      <defs>\n       <path id=\"DejaVuSans-34\" d=\"M 2419 4116 \nL 825 1625 \nL 2419 1625 \nL 2419 4116 \nz\nM 2253 4666 \nL 3047 4666 \nL 3047 1625 \nL 3713 1625 \nL 3713 1100 \nL 3047 1100 \nL 3047 0 \nL 2419 0 \nL 2419 1100 \nL 313 1100 \nL 313 1709 \nL 2253 4666 \nz\n\" transform=\"scale(0.015625)\"/>\n      </defs>\n      <use xlink:href=\"#DejaVuSans-Oblique-3d5\" transform=\"translate(0 0.015625)\"/>\n      <use xlink:href=\"#DejaVuSans-34\" transform=\"translate(65.966797 -16.390625) scale(0.7)\"/>\n     </g>\n    </g>\n    <g id=\"line2d_31\">\n     <path d=\"M 416.84 164.971406 \nL 423.84 164.971406 \nL 430.84 164.971406 \n\" style=\"fill: none; stroke: #937860; stroke-linecap: round\"/>\n    </g>\n    <g id=\"text_23\">\n     <!-- $\\phi_5$ -->\n     <g style=\"fill: #262626\" transform=\"translate(436.44 167.421406) scale(0.07 -0.07)\">\n      <defs>\n       <path id=\"DejaVuSans-35\" d=\"M 691 4666 \nL 3169 4666 \nL 3169 4134 \nL 1269 4134 \nL 1269 2991 \nQ 1406 3038 1543 3061 \nQ 1681 3084 1819 3084 \nQ 2600 3084 3056 2656 \nQ 3513 2228 3513 1497 \nQ 3513 744 3044 326 \nQ 2575 -91 1722 -91 \nQ 1428 -91 1123 -41 \nQ 819 9 494 109 \nL 494 744 \nQ 775 591 1075 516 \nQ 1375 441 1709 441 \nQ 2250 441 2565 725 \nQ 2881 1009 2881 1497 \nQ 2881 1984 2565 2268 \nQ 2250 2553 1709 2553 \nQ 1456 2553 1204 2497 \nQ 953 2441 691 2322 \nL 691 4666 \nz\n\" transform=\"scale(0.015625)\"/>\n      </defs>\n      <use xlink:href=\"#DejaVuSans-Oblique-3d5\" transform=\"translate(0 0.015625)\"/>\n      <use xlink:href=\"#DejaVuSans-35\" transform=\"translate(65.966797 -16.390625) scale(0.7)\"/>\n     </g>\n    </g>\n    <g id=\"line2d_32\">\n     <path d=\"M 416.84 175.261406 \nL 423.84 175.261406 \nL 430.84 175.261406 \n\" style=\"fill: none; stroke: #da8bc3; stroke-linecap: round\"/>\n    </g>\n    <g id=\"text_24\">\n     <!-- $\\phi_6$ -->\n     <g style=\"fill: #262626\" transform=\"translate(436.44 177.711406) scale(0.07 -0.07)\">\n      <defs>\n       <path id=\"DejaVuSans-36\" d=\"M 2113 2584 \nQ 1688 2584 1439 2293 \nQ 1191 2003 1191 1497 \nQ 1191 994 1439 701 \nQ 1688 409 2113 409 \nQ 2538 409 2786 701 \nQ 3034 994 3034 1497 \nQ 3034 2003 2786 2293 \nQ 2538 2584 2113 2584 \nz\nM 3366 4563 \nL 3366 3988 \nQ 3128 4100 2886 4159 \nQ 2644 4219 2406 4219 \nQ 1781 4219 1451 3797 \nQ 1122 3375 1075 2522 \nQ 1259 2794 1537 2939 \nQ 1816 3084 2150 3084 \nQ 2853 3084 3261 2657 \nQ 3669 2231 3669 1497 \nQ 3669 778 3244 343 \nQ 2819 -91 2113 -91 \nQ 1303 -91 875 529 \nQ 447 1150 447 2328 \nQ 447 3434 972 4092 \nQ 1497 4750 2381 4750 \nQ 2619 4750 2861 4703 \nQ 3103 4656 3366 4563 \nz\n\" transform=\"scale(0.015625)\"/>\n      </defs>\n      <use xlink:href=\"#DejaVuSans-Oblique-3d5\" transform=\"translate(0 0.015625)\"/>\n      <use xlink:href=\"#DejaVuSans-36\" transform=\"translate(65.966797 -16.390625) scale(0.7)\"/>\n     </g>\n    </g>\n    <g id=\"line2d_33\">\n     <path d=\"M 416.84 185.551406 \nL 423.84 185.551406 \nL 430.84 185.551406 \n\" style=\"fill: none; stroke: #8c8c8c; stroke-linecap: round\"/>\n    </g>\n    <g id=\"text_25\">\n     <!-- $\\phi_7$ -->\n     <g style=\"fill: #262626\" transform=\"translate(436.44 188.001406) scale(0.07 -0.07)\">\n      <defs>\n       <path id=\"DejaVuSans-37\" d=\"M 525 4666 \nL 3525 4666 \nL 3525 4397 \nL 1831 0 \nL 1172 0 \nL 2766 4134 \nL 525 4134 \nL 525 4666 \nz\n\" transform=\"scale(0.015625)\"/>\n      </defs>\n      <use xlink:href=\"#DejaVuSans-Oblique-3d5\" transform=\"translate(0 0.015625)\"/>\n      <use xlink:href=\"#DejaVuSans-37\" transform=\"translate(65.966797 -16.390625) scale(0.7)\"/>\n     </g>\n    </g>\n    <g id=\"line2d_34\">\n     <path d=\"M 416.84 195.841406 \nL 423.84 195.841406 \nL 430.84 195.841406 \n\" style=\"fill: none; stroke: #ccb974; stroke-linecap: round\"/>\n    </g>\n    <g id=\"text_26\">\n     <!-- $\\phi_8$ -->\n     <g style=\"fill: #262626\" transform=\"translate(436.44 198.291406) scale(0.07 -0.07)\">\n      <defs>\n       <path id=\"DejaVuSans-38\" d=\"M 2034 2216 \nQ 1584 2216 1326 1975 \nQ 1069 1734 1069 1313 \nQ 1069 891 1326 650 \nQ 1584 409 2034 409 \nQ 2484 409 2743 651 \nQ 3003 894 3003 1313 \nQ 3003 1734 2745 1975 \nQ 2488 2216 2034 2216 \nz\nM 1403 2484 \nQ 997 2584 770 2862 \nQ 544 3141 544 3541 \nQ 544 4100 942 4425 \nQ 1341 4750 2034 4750 \nQ 2731 4750 3128 4425 \nQ 3525 4100 3525 3541 \nQ 3525 3141 3298 2862 \nQ 3072 2584 2669 2484 \nQ 3125 2378 3379 2068 \nQ 3634 1759 3634 1313 \nQ 3634 634 3220 271 \nQ 2806 -91 2034 -91 \nQ 1263 -91 848 271 \nQ 434 634 434 1313 \nQ 434 1759 690 2068 \nQ 947 2378 1403 2484 \nz\nM 1172 3481 \nQ 1172 3119 1398 2916 \nQ 1625 2713 2034 2713 \nQ 2441 2713 2670 2916 \nQ 2900 3119 2900 3481 \nQ 2900 3844 2670 4047 \nQ 2441 4250 2034 4250 \nQ 1625 4250 1398 4047 \nQ 1172 3844 1172 3481 \nz\n\" transform=\"scale(0.015625)\"/>\n      </defs>\n      <use xlink:href=\"#DejaVuSans-Oblique-3d5\" transform=\"translate(0 0.015625)\"/>\n      <use xlink:href=\"#DejaVuSans-38\" transform=\"translate(65.966797 -16.390625) scale(0.7)\"/>\n     </g>\n    </g>\n    <g id=\"line2d_35\">\n     <path d=\"M 416.84 206.131406 \nL 423.84 206.131406 \nL 430.84 206.131406 \n\" style=\"fill: none; stroke: #64b5cd; stroke-linecap: round\"/>\n    </g>\n    <g id=\"text_27\">\n     <!-- $\\phi_9$ -->\n     <g style=\"fill: #262626\" transform=\"translate(436.44 208.581406) scale(0.07 -0.07)\">\n      <defs>\n       <path id=\"DejaVuSans-39\" d=\"M 703 97 \nL 703 672 \nQ 941 559 1184 500 \nQ 1428 441 1663 441 \nQ 2288 441 2617 861 \nQ 2947 1281 2994 2138 \nQ 2813 1869 2534 1725 \nQ 2256 1581 1919 1581 \nQ 1219 1581 811 2004 \nQ 403 2428 403 3163 \nQ 403 3881 828 4315 \nQ 1253 4750 1959 4750 \nQ 2769 4750 3195 4129 \nQ 3622 3509 3622 2328 \nQ 3622 1225 3098 567 \nQ 2575 -91 1691 -91 \nQ 1453 -91 1209 -44 \nQ 966 3 703 97 \nz\nM 1959 2075 \nQ 2384 2075 2632 2365 \nQ 2881 2656 2881 3163 \nQ 2881 3666 2632 3958 \nQ 2384 4250 1959 4250 \nQ 1534 4250 1286 3958 \nQ 1038 3666 1038 3163 \nQ 1038 2656 1286 2365 \nQ 1534 2075 1959 2075 \nz\n\" transform=\"scale(0.015625)\"/>\n      </defs>\n      <use xlink:href=\"#DejaVuSans-Oblique-3d5\" transform=\"translate(0 0.015625)\"/>\n      <use xlink:href=\"#DejaVuSans-39\" transform=\"translate(65.966797 -16.390625) scale(0.7)\"/>\n     </g>\n    </g>\n   </g>\n  </g>\n </g>\n <defs>\n  <clipPath id=\"pcc967838d2\">\n   <rect x=\"33.592188\" y=\"7.2\" width=\"417.127812\" height=\"306.302812\"/>\n  </clipPath>\n </defs>\n</svg>\n"
          },
          "metadata": {}
        }
      ],
      "source": [
        "fig, ax = plt.subplots()\n",
        "for i in range(Phi.shape[1]):\n",
        "    ax.plot(x, Phi[:, i], label=f\"$\\phi_{i}$\")\n",
        "ax.set(xlabel=\"$x$\", ylabel=\"$\\phi(x)$\")\n",
        "ax.legend(loc=\"best\", frameon=False)\n",
        "sns.despine(trim=True);"
      ]
    },
    {
      "cell_type": "markdown",
      "metadata": {
        "id": "-QpPIoQGRCa9"
      },
      "source": [
        "### Part A - Hierarchical Bayesian linear regression with input-independent noise\n",
        "\n",
        "We will analyze the motorcycle dataset. The data is loaded below."
      ]
    },
    {
      "cell_type": "code",
      "execution_count": 8,
      "metadata": {
        "colab": {
          "base_uri": "https://localhost:8080/"
        },
        "id": "hO29wXNbRCa9",
        "outputId": "6b45427c-03f0-4091-dcee-ad32bc39a369"
      },
      "outputs": [
        {
          "output_type": "stream",
          "name": "stdout",
          "text": [
            "  % Total    % Received % Xferd  Average Speed   Time    Time     Time  Current\n",
            "                                 Dload  Upload   Total   Spent    Left  Speed\n",
            "100  2970  100  2970    0     0  17609      0 --:--:-- --:--:-- --:--:-- 17678\n"
          ]
        }
      ],
      "source": [
        "url = \"https://raw.githubusercontent.com/PredictiveScienceLab/data-analytics-se/master/lecturebook/data/motor.dat\"\n",
        "!curl -O $url"
      ]
    },
    {
      "cell_type": "markdown",
      "metadata": {
        "id": "yKy5xZKWRCa9"
      },
      "source": [
        "We will work with the scaled data:"
      ]
    },
    {
      "cell_type": "code",
      "execution_count": 9,
      "metadata": {
        "scrolled": false,
        "colab": {
          "base_uri": "https://localhost:8080/",
          "height": 478
        },
        "id": "HHwaDUSzRCa9",
        "outputId": "d702908a-22d0-4bd2-a7d5-2940694eeb3f"
      },
      "outputs": [
        {
          "output_type": "display_data",
          "data": {
            "text/plain": [
              "<Figure size 3840x2880 with 1 Axes>"
            ],
            "image/svg+xml": "<?xml version=\"1.0\" encoding=\"utf-8\" standalone=\"no\"?>\n<!DOCTYPE svg PUBLIC \"-//W3C//DTD SVG 1.1//EN\"\n  \"http://www.w3.org/Graphics/SVG/1.1/DTD/svg11.dtd\">\n<svg xmlns:xlink=\"http://www.w3.org/1999/xlink\" width=\"457.92pt\" height=\"342.72pt\" viewBox=\"0 0 457.92 342.72\" xmlns=\"http://www.w3.org/2000/svg\" version=\"1.1\">\n <metadata>\n  <rdf:RDF xmlns:dc=\"http://purl.org/dc/elements/1.1/\" xmlns:cc=\"http://creativecommons.org/ns#\" xmlns:rdf=\"http://www.w3.org/1999/02/22-rdf-syntax-ns#\">\n   <cc:Work>\n    <dc:type rdf:resource=\"http://purl.org/dc/dcmitype/StillImage\"/>\n    <dc:date>2025-08-10T00:19:17.308367</dc:date>\n    <dc:format>image/svg+xml</dc:format>\n    <dc:creator>\n     <cc:Agent>\n      <dc:title>Matplotlib v3.10.0, https://matplotlib.org/</dc:title>\n     </cc:Agent>\n    </dc:creator>\n   </cc:Work>\n  </rdf:RDF>\n </metadata>\n <defs>\n  <style type=\"text/css\">*{stroke-linejoin: round; stroke-linecap: butt}</style>\n </defs>\n <g id=\"figure_1\">\n  <g id=\"patch_1\">\n   <path d=\"M 0 342.72 \nL 457.92 342.72 \nL 457.92 0 \nL 0 0 \nz\n\" style=\"fill: #ffffff\"/>\n  </g>\n  <g id=\"axes_1\">\n   <g id=\"patch_2\">\n    <path d=\"M 32.762031 313.502812 \nL 450.72 313.502812 \nL 450.72 7.2 \nL 32.762031 7.2 \nz\n\" style=\"fill: #ffffff\"/>\n   </g>\n   <g id=\"matplotlib.axis_1\">\n    <g id=\"xtick_1\">\n     <g id=\"line2d_1\"/>\n     <g id=\"text_1\">\n      <!-- −1.5 -->\n      <g style=\"fill: #262626\" transform=\"translate(61.704183 322.321719) scale(0.07 -0.07)\">\n       <defs>\n        <path id=\"DejaVuSerif-2212\" d=\"M 678 2259 \nL 4684 2259 \nL 4684 1753 \nL 678 1753 \nL 678 2259 \nz\n\" transform=\"scale(0.015625)\"/>\n        <path id=\"DejaVuSerif-31\" d=\"M 909 0 \nL 909 331 \nL 1722 331 \nL 1722 4213 \nL 781 3603 \nL 781 4013 \nL 1919 4750 \nL 2350 4750 \nL 2350 331 \nL 3163 331 \nL 3163 0 \nL 909 0 \nz\n\" transform=\"scale(0.015625)\"/>\n        <path id=\"DejaVuSerif-2e\" d=\"M 603 325 \nQ 603 500 722 622 \nQ 841 744 1019 744 \nQ 1191 744 1312 622 \nQ 1434 500 1434 325 \nQ 1434 153 1312 31 \nQ 1191 -91 1019 -91 \nQ 841 -91 722 29 \nQ 603 150 603 325 \nz\n\" transform=\"scale(0.015625)\"/>\n        <path id=\"DejaVuSerif-35\" d=\"M 3219 4666 \nL 3219 4153 \nL 1081 4153 \nL 1081 2816 \nQ 1244 2928 1461 2984 \nQ 1678 3041 1947 3041 \nQ 2703 3041 3140 2622 \nQ 3578 2203 3578 1478 \nQ 3578 738 3136 323 \nQ 2694 -91 1894 -91 \nQ 1572 -91 1234 -12 \nQ 897 66 544 225 \nL 544 1131 \nL 897 1131 \nQ 925 688 1179 453 \nQ 1434 219 1894 219 \nQ 2388 219 2653 544 \nQ 2919 869 2919 1478 \nQ 2919 2084 2655 2407 \nQ 2391 2731 1894 2731 \nQ 1613 2731 1398 2631 \nQ 1184 2531 1019 2322 \nL 750 2322 \nL 750 4666 \nL 3219 4666 \nz\n\" transform=\"scale(0.015625)\"/>\n       </defs>\n       <use xlink:href=\"#DejaVuSerif-2212\"/>\n       <use xlink:href=\"#DejaVuSerif-31\" transform=\"translate(83.789062 0)\"/>\n       <use xlink:href=\"#DejaVuSerif-2e\" transform=\"translate(147.412109 0)\"/>\n       <use xlink:href=\"#DejaVuSerif-35\" transform=\"translate(179.199219 0)\"/>\n      </g>\n     </g>\n    </g>\n    <g id=\"xtick_2\">\n     <g id=\"line2d_2\"/>\n     <g id=\"text_2\">\n      <!-- −1.0 -->\n      <g style=\"fill: #262626\" transform=\"translate(109.476199 322.321719) scale(0.07 -0.07)\">\n       <defs>\n        <path id=\"DejaVuSerif-30\" d=\"M 2034 219 \nQ 2513 219 2750 744 \nQ 2988 1269 2988 2328 \nQ 2988 3391 2750 3916 \nQ 2513 4441 2034 4441 \nQ 1556 4441 1318 3916 \nQ 1081 3391 1081 2328 \nQ 1081 1269 1318 744 \nQ 1556 219 2034 219 \nz\nM 2034 -91 \nQ 1275 -91 848 546 \nQ 422 1184 422 2328 \nQ 422 3475 848 4112 \nQ 1275 4750 2034 4750 \nQ 2797 4750 3222 4112 \nQ 3647 3475 3647 2328 \nQ 3647 1184 3222 546 \nQ 2797 -91 2034 -91 \nz\n\" transform=\"scale(0.015625)\"/>\n       </defs>\n       <use xlink:href=\"#DejaVuSerif-2212\"/>\n       <use xlink:href=\"#DejaVuSerif-31\" transform=\"translate(83.789062 0)\"/>\n       <use xlink:href=\"#DejaVuSerif-2e\" transform=\"translate(147.412109 0)\"/>\n       <use xlink:href=\"#DejaVuSerif-30\" transform=\"translate(179.199219 0)\"/>\n      </g>\n     </g>\n    </g>\n    <g id=\"xtick_3\">\n     <g id=\"line2d_3\"/>\n     <g id=\"text_3\">\n      <!-- −0.5 -->\n      <g style=\"fill: #262626\" transform=\"translate(157.248214 322.321719) scale(0.07 -0.07)\">\n       <use xlink:href=\"#DejaVuSerif-2212\"/>\n       <use xlink:href=\"#DejaVuSerif-30\" transform=\"translate(83.789062 0)\"/>\n       <use xlink:href=\"#DejaVuSerif-2e\" transform=\"translate(147.412109 0)\"/>\n       <use xlink:href=\"#DejaVuSerif-35\" transform=\"translate(179.199219 0)\"/>\n      </g>\n     </g>\n    </g>\n    <g id=\"xtick_4\">\n     <g id=\"line2d_4\"/>\n     <g id=\"text_4\">\n      <!-- 0.0 -->\n      <g style=\"fill: #262626\" transform=\"translate(207.953121 322.321719) scale(0.07 -0.07)\">\n       <use xlink:href=\"#DejaVuSerif-30\"/>\n       <use xlink:href=\"#DejaVuSerif-2e\" transform=\"translate(63.623047 0)\"/>\n       <use xlink:href=\"#DejaVuSerif-30\" transform=\"translate(95.410156 0)\"/>\n      </g>\n     </g>\n    </g>\n    <g id=\"xtick_5\">\n     <g id=\"line2d_5\"/>\n     <g id=\"text_5\">\n      <!-- 0.5 -->\n      <g style=\"fill: #262626\" transform=\"translate(255.725136 322.321719) scale(0.07 -0.07)\">\n       <use xlink:href=\"#DejaVuSerif-30\"/>\n       <use xlink:href=\"#DejaVuSerif-2e\" transform=\"translate(63.623047 0)\"/>\n       <use xlink:href=\"#DejaVuSerif-35\" transform=\"translate(95.410156 0)\"/>\n      </g>\n     </g>\n    </g>\n    <g id=\"xtick_6\">\n     <g id=\"line2d_6\"/>\n     <g id=\"text_6\">\n      <!-- 1.0 -->\n      <g style=\"fill: #262626\" transform=\"translate(303.497152 322.321719) scale(0.07 -0.07)\">\n       <use xlink:href=\"#DejaVuSerif-31\"/>\n       <use xlink:href=\"#DejaVuSerif-2e\" transform=\"translate(63.623047 0)\"/>\n       <use xlink:href=\"#DejaVuSerif-30\" transform=\"translate(95.410156 0)\"/>\n      </g>\n     </g>\n    </g>\n    <g id=\"xtick_7\">\n     <g id=\"line2d_7\"/>\n     <g id=\"text_7\">\n      <!-- 1.5 -->\n      <g style=\"fill: #262626\" transform=\"translate(351.269168 322.321719) scale(0.07 -0.07)\">\n       <use xlink:href=\"#DejaVuSerif-31\"/>\n       <use xlink:href=\"#DejaVuSerif-2e\" transform=\"translate(63.623047 0)\"/>\n       <use xlink:href=\"#DejaVuSerif-35\" transform=\"translate(95.410156 0)\"/>\n      </g>\n     </g>\n    </g>\n    <g id=\"xtick_8\">\n     <g id=\"line2d_8\"/>\n     <g id=\"text_8\">\n      <!-- 2.0 -->\n      <g style=\"fill: #262626\" transform=\"translate(399.041183 322.321719) scale(0.07 -0.07)\">\n       <defs>\n        <path id=\"DejaVuSerif-32\" d=\"M 819 3553 \nL 469 3553 \nL 469 4384 \nQ 803 4563 1142 4656 \nQ 1481 4750 1806 4750 \nQ 2534 4750 2956 4397 \nQ 3378 4044 3378 3438 \nQ 3378 2753 2422 1800 \nQ 2347 1728 2309 1691 \nL 1131 513 \nL 3078 513 \nL 3078 1088 \nL 3444 1088 \nL 3444 0 \nL 434 0 \nL 434 341 \nL 1850 1753 \nQ 2319 2222 2519 2614 \nQ 2719 3006 2719 3438 \nQ 2719 3909 2473 4175 \nQ 2228 4441 1797 4441 \nQ 1350 4441 1106 4219 \nQ 863 3997 819 3553 \nz\n\" transform=\"scale(0.015625)\"/>\n       </defs>\n       <use xlink:href=\"#DejaVuSerif-32\"/>\n       <use xlink:href=\"#DejaVuSerif-2e\" transform=\"translate(63.623047 0)\"/>\n       <use xlink:href=\"#DejaVuSerif-30\" transform=\"translate(95.410156 0)\"/>\n      </g>\n     </g>\n    </g>\n    <g id=\"text_9\">\n     <!-- $x$ -->\n     <g style=\"fill: #262626\" transform=\"translate(239.341016 333.85625) scale(0.08 -0.08)\">\n      <defs>\n       <path id=\"DejaVuSans-Oblique-78\" d=\"M 3841 3500 \nL 2234 1784 \nL 3219 0 \nL 2559 0 \nL 1819 1388 \nL 531 0 \nL -166 0 \nL 1556 1844 \nL 641 3500 \nL 1300 3500 \nL 1972 2234 \nL 3144 3500 \nL 3841 3500 \nz\n\" transform=\"scale(0.015625)\"/>\n      </defs>\n      <use xlink:href=\"#DejaVuSans-Oblique-78\" transform=\"translate(0 0.3125)\"/>\n     </g>\n    </g>\n   </g>\n   <g id=\"matplotlib.axis_2\">\n    <g id=\"ytick_1\">\n     <g id=\"line2d_9\"/>\n     <g id=\"text_10\">\n      <!-- −2 -->\n      <g style=\"fill: #262626\" transform=\"translate(18.9425 286.804947) scale(0.07 -0.07)\">\n       <use xlink:href=\"#DejaVuSerif-2212\"/>\n       <use xlink:href=\"#DejaVuSerif-32\" transform=\"translate(83.789062 0)\"/>\n      </g>\n     </g>\n    </g>\n    <g id=\"ytick_2\">\n     <g id=\"line2d_10\"/>\n     <g id=\"text_11\">\n      <!-- −1 -->\n      <g style=\"fill: #262626\" transform=\"translate(18.9425 219.7678) scale(0.07 -0.07)\">\n       <use xlink:href=\"#DejaVuSerif-2212\"/>\n       <use xlink:href=\"#DejaVuSerif-31\" transform=\"translate(83.789062 0)\"/>\n      </g>\n     </g>\n    </g>\n    <g id=\"ytick_3\">\n     <g id=\"line2d_11\"/>\n     <g id=\"text_12\">\n      <!-- 0 -->\n      <g style=\"fill: #262626\" transform=\"translate(24.808281 152.730653) scale(0.07 -0.07)\">\n       <use xlink:href=\"#DejaVuSerif-30\"/>\n      </g>\n     </g>\n    </g>\n    <g id=\"ytick_4\">\n     <g id=\"line2d_12\"/>\n     <g id=\"text_13\">\n      <!-- 1 -->\n      <g style=\"fill: #262626\" transform=\"translate(24.808281 85.693507) scale(0.07 -0.07)\">\n       <use xlink:href=\"#DejaVuSerif-31\"/>\n      </g>\n     </g>\n    </g>\n    <g id=\"ytick_5\">\n     <g id=\"line2d_13\"/>\n     <g id=\"text_14\">\n      <!-- 2 -->\n      <g style=\"fill: #262626\" transform=\"translate(24.808281 18.65636) scale(0.07 -0.07)\">\n       <use xlink:href=\"#DejaVuSerif-32\"/>\n      </g>\n     </g>\n    </g>\n    <g id=\"text_15\">\n     <!-- $y$ -->\n     <g style=\"fill: #262626\" transform=\"translate(13.2625 162.751406) rotate(-90) scale(0.08 -0.08)\">\n      <defs>\n       <path id=\"DejaVuSans-Oblique-79\" d=\"M 1588 -325 \nQ 1188 -997 936 -1164 \nQ 684 -1331 294 -1331 \nL -159 -1331 \nL -63 -850 \nL 269 -850 \nQ 509 -850 678 -719 \nQ 847 -588 1056 -206 \nL 1234 128 \nL 459 3500 \nL 1069 3500 \nL 1650 819 \nL 3256 3500 \nL 3859 3500 \nL 1588 -325 \nz\n\" transform=\"scale(0.015625)\"/>\n      </defs>\n      <use xlink:href=\"#DejaVuSans-Oblique-79\" transform=\"translate(0 0.3125)\"/>\n     </g>\n    </g>\n   </g>\n   <g id=\"line2d_14\">\n    <defs>\n     <path id=\"mbea251f5f1\" d=\"M -2 2 \nL 2 -2 \nM -2 -2 \nL 2 2 \n\" style=\"stroke: #4c72b0\"/>\n    </defs>\n    <g clip-path=\"url(#p7449bf7f2d)\">\n     <use xlink:href=\"#mbea251f5f1\" x=\"51.760121\" y=\"121.047652\" style=\"fill: #4c72b0; stroke: #4c72b0\"/>\n     <use xlink:href=\"#mbea251f5f1\" x=\"53.136798\" y=\"122.779683\" style=\"fill: #4c72b0; stroke: #4c72b0\"/>\n     <use xlink:href=\"#mbea251f5f1\" x=\"57.266819\" y=\"124.644946\" style=\"fill: #4c72b0; stroke: #4c72b0\"/>\n     <use xlink:href=\"#mbea251f5f1\" x=\"60.020162\" y=\"121.047652\" style=\"fill: #4c72b0; stroke: #4c72b0\"/>\n     <use xlink:href=\"#mbea251f5f1\" x=\"62.773506\" y=\"124.644946\" style=\"fill: #4c72b0; stroke: #4c72b0\"/>\n     <use xlink:href=\"#mbea251f5f1\" x=\"77.916912\" y=\"124.644946\" style=\"fill: #4c72b0; stroke: #4c72b0\"/>\n     <use xlink:href=\"#mbea251f5f1\" x=\"80.670255\" y=\"124.644946\" style=\"fill: #4c72b0; stroke: #4c72b0\"/>\n     <use xlink:href=\"#mbea251f5f1\" x=\"82.046932\" y=\"122.779683\" style=\"fill: #4c72b0; stroke: #4c72b0\"/>\n     <use xlink:href=\"#mbea251f5f1\" x=\"88.930297\" y=\"124.644946\" style=\"fill: #4c72b0; stroke: #4c72b0\"/>\n     <use xlink:href=\"#mbea251f5f1\" x=\"91.68364\" y=\"124.644946\" style=\"fill: #4c72b0; stroke: #4c72b0\"/>\n     <use xlink:href=\"#mbea251f5f1\" x=\"95.813661\" y=\"122.779683\" style=\"fill: #4c72b0; stroke: #4c72b0\"/>\n     <use xlink:href=\"#mbea251f5f1\" x=\"101.320359\" y=\"124.644946\" style=\"fill: #4c72b0; stroke: #4c72b0\"/>\n     <use xlink:href=\"#mbea251f5f1\" x=\"104.073703\" y=\"124.644946\" style=\"fill: #4c72b0; stroke: #4c72b0\"/>\n     <use xlink:href=\"#mbea251f5f1\" x=\"105.45038\" y=\"128.242237\" style=\"fill: #4c72b0; stroke: #4c72b0\"/>\n     <use xlink:href=\"#mbea251f5f1\" x=\"108.203723\" y=\"124.644946\" style=\"fill: #4c72b0; stroke: #4c72b0\"/>\n     <use xlink:href=\"#mbea251f5f1\" x=\"110.957067\" y=\"128.242237\" style=\"fill: #4c72b0; stroke: #4c72b0\"/>\n     <use xlink:href=\"#mbea251f5f1\" x=\"113.71041\" y=\"121.047652\" style=\"fill: #4c72b0; stroke: #4c72b0\"/>\n     <use xlink:href=\"#mbea251f5f1\" x=\"126.100473\" y=\"124.644946\" style=\"fill: #4c72b0; stroke: #4c72b0\"/>\n     <use xlink:href=\"#mbea251f5f1\" x=\"128.853822\" y=\"124.644946\" style=\"fill: #4c72b0; stroke: #4c72b0\"/>\n     <use xlink:href=\"#mbea251f5f1\" x=\"130.230493\" y=\"121.047652\" style=\"fill: #4c72b0; stroke: #4c72b0\"/>\n     <use xlink:href=\"#mbea251f5f1\" x=\"135.737186\" y=\"138.76765\" style=\"fill: #4c72b0; stroke: #4c72b0\"/>\n     <use xlink:href=\"#mbea251f5f1\" x=\"137.113858\" y=\"124.644946\" style=\"fill: #4c72b0; stroke: #4c72b0\"/>\n     <use xlink:href=\"#mbea251f5f1\" x=\"141.243879\" y=\"151.424791\" style=\"fill: #4c72b0; stroke: #4c72b0\"/>\n     <use xlink:href=\"#mbea251f5f1\" x=\"142.62055\" y=\"174.607345\" style=\"fill: #4c72b0; stroke: #4c72b0\"/>\n     <use xlink:href=\"#mbea251f5f1\" x=\"143.997222\" y=\"149.692762\" style=\"fill: #4c72b0; stroke: #4c72b0\"/>\n     <use xlink:href=\"#mbea251f5f1\" x=\"145.373894\" y=\"178.204639\" style=\"fill: #4c72b0; stroke: #4c72b0\"/>\n     <use xlink:href=\"#mbea251f5f1\" x=\"146.750571\" y=\"149.692762\" style=\"fill: #4c72b0; stroke: #4c72b0\"/>\n     <use xlink:href=\"#mbea251f5f1\" x=\"148.127243\" y=\"128.242237\" style=\"fill: #4c72b0; stroke: #4c72b0\"/>\n     <use xlink:href=\"#mbea251f5f1\" x=\"149.503914\" y=\"199.655162\" style=\"fill: #4c72b0; stroke: #4c72b0\"/>\n     <use xlink:href=\"#mbea251f5f1\" x=\"150.880586\" y=\"215.64313\" style=\"fill: #4c72b0; stroke: #4c72b0\"/>\n     <use xlink:href=\"#mbea251f5f1\" x=\"156.387279\" y=\"171.010051\" style=\"fill: #4c72b0; stroke: #4c72b0\"/>\n     <use xlink:href=\"#mbea251f5f1\" x=\"157.763956\" y=\"253.081622\" style=\"fill: #4c72b0; stroke: #4c72b0\"/>\n     <use xlink:href=\"#mbea251f5f1\" x=\"163.270649\" y=\"270.93485\" style=\"fill: #4c72b0; stroke: #4c72b0\"/>\n     <use xlink:href=\"#mbea251f5f1\" x=\"167.400667\" y=\"285.057558\" style=\"fill: #4c72b0; stroke: #4c72b0\"/>\n     <use xlink:href=\"#mbea251f5f1\" x=\"168.777338\" y=\"235.09516\" style=\"fill: #4c72b0; stroke: #4c72b0\"/>\n     <use xlink:href=\"#mbea251f5f1\" x=\"170.154013\" y=\"290.520114\" style=\"fill: #4c72b0; stroke: #4c72b0\"/>\n     <use xlink:href=\"#mbea251f5f1\" x=\"174.284031\" y=\"285.057558\" style=\"fill: #4c72b0; stroke: #4c72b0\"/>\n     <use xlink:href=\"#mbea251f5f1\" x=\"175.660705\" y=\"278.129433\" style=\"fill: #4c72b0; stroke: #4c72b0\"/>\n     <use xlink:href=\"#mbea251f5f1\" x=\"181.167398\" y=\"299.579957\" style=\"fill: #4c72b0; stroke: #4c72b0\"/>\n     <use xlink:href=\"#mbea251f5f1\" x=\"182.54407\" y=\"256.812143\" style=\"fill: #4c72b0; stroke: #4c72b0\"/>\n     <use xlink:href=\"#mbea251f5f1\" x=\"185.297416\" y=\"265.472294\" style=\"fill: #4c72b0; stroke: #4c72b0\"/>\n     <use xlink:href=\"#mbea251f5f1\" x=\"186.674088\" y=\"285.057558\" style=\"fill: #4c72b0; stroke: #4c72b0\"/>\n     <use xlink:href=\"#mbea251f5f1\" x=\"194.934128\" y=\"285.057558\" style=\"fill: #4c72b0; stroke: #4c72b0\"/>\n     <use xlink:href=\"#mbea251f5f1\" x=\"196.310801\" y=\"292.252149\" style=\"fill: #4c72b0; stroke: #4c72b0\"/>\n     <use xlink:href=\"#mbea251f5f1\" x=\"200.44082\" y=\"270.93485\" style=\"fill: #4c72b0; stroke: #4c72b0\"/>\n     <use xlink:href=\"#mbea251f5f1\" x=\"201.817493\" y=\"247.752299\" style=\"fill: #4c72b0; stroke: #4c72b0\"/>\n     <use xlink:href=\"#mbea251f5f1\" x=\"204.570839\" y=\"192.327342\" style=\"fill: #4c72b0; stroke: #4c72b0\"/>\n     <use xlink:href=\"#mbea251f5f1\" x=\"207.324185\" y=\"206.849746\" style=\"fill: #4c72b0; stroke: #4c72b0\"/>\n     <use xlink:href=\"#mbea251f5f1\" x=\"210.077531\" y=\"217.375157\" style=\"fill: #4c72b0; stroke: #4c72b0\"/>\n     <use xlink:href=\"#mbea251f5f1\" x=\"211.454205\" y=\"156.754114\" style=\"fill: #4c72b0; stroke: #4c72b0\"/>\n     <use xlink:href=\"#mbea251f5f1\" x=\"214.207551\" y=\"128.242237\" style=\"fill: #4c72b0; stroke: #4c72b0\"/>\n     <use xlink:href=\"#mbea251f5f1\" x=\"215.584224\" y=\"263.740267\" style=\"fill: #4c72b0; stroke: #4c72b0\"/>\n     <use xlink:href=\"#mbea251f5f1\" x=\"216.960897\" y=\"208.448543\" style=\"fill: #4c72b0; stroke: #4c72b0\"/>\n     <use xlink:href=\"#mbea251f5f1\" x=\"221.090917\" y=\"142.364943\" style=\"fill: #4c72b0; stroke: #4c72b0\"/>\n     <use xlink:href=\"#mbea251f5f1\" x=\"222.46759\" y=\"181.80193\" style=\"fill: #4c72b0; stroke: #4c72b0\"/>\n     <use xlink:href=\"#mbea251f5f1\" x=\"225.220936\" y=\"115.718331\" style=\"fill: #4c72b0; stroke: #4c72b0\"/>\n     <use xlink:href=\"#mbea251f5f1\" x=\"229.350955\" y=\"105.059686\" style=\"fill: #4c72b0; stroke: #4c72b0\"/>\n     <use xlink:href=\"#mbea251f5f1\" x=\"230.727628\" y=\"149.692762\" style=\"fill: #4c72b0; stroke: #4c72b0\"/>\n     <use xlink:href=\"#mbea251f5f1\" x=\"232.104301\" y=\"58.561347\" style=\"fill: #4c72b0; stroke: #4c72b0\"/>\n     <use xlink:href=\"#mbea251f5f1\" x=\"237.610995\" y=\"144.230206\" style=\"fill: #4c72b0; stroke: #4c72b0\"/>\n     <use xlink:href=\"#mbea251f5f1\" x=\"243.117684\" y=\"72.81728\" style=\"fill: #4c72b0; stroke: #4c72b0\"/>\n     <use xlink:href=\"#mbea251f5f1\" x=\"248.624377\" y=\"21.122855\" style=\"fill: #4c72b0; stroke: #4c72b0\"/>\n     <use xlink:href=\"#mbea251f5f1\" x=\"250.001052\" y=\"110.255775\" style=\"fill: #4c72b0; stroke: #4c72b0\"/>\n     <use xlink:href=\"#mbea251f5f1\" x=\"255.507744\" y=\"47.902702\" style=\"fill: #4c72b0; stroke: #4c72b0\"/>\n     <use xlink:href=\"#mbea251f5f1\" x=\"261.014437\" y=\"58.561347\" style=\"fill: #4c72b0; stroke: #4c72b0\"/>\n     <use xlink:href=\"#mbea251f5f1\" x=\"265.144457\" y=\"99.730364\" style=\"fill: #4c72b0; stroke: #4c72b0\"/>\n     <use xlink:href=\"#mbea251f5f1\" x=\"267.897801\" y=\"60.293374\" style=\"fill: #4c72b0; stroke: #4c72b0\"/>\n     <use xlink:href=\"#mbea251f5f1\" x=\"272.027822\" y=\"119.315623\" style=\"fill: #4c72b0; stroke: #4c72b0\"/>\n     <use xlink:href=\"#mbea251f5f1\" x=\"274.781165\" y=\"21.122855\" style=\"fill: #4c72b0; stroke: #4c72b0\"/>\n     <use xlink:href=\"#mbea251f5f1\" x=\"277.534514\" y=\"142.364943\" style=\"fill: #4c72b0; stroke: #4c72b0\"/>\n     <use xlink:href=\"#mbea251f5f1\" x=\"278.911186\" y=\"28.317438\" style=\"fill: #4c72b0; stroke: #4c72b0\"/>\n     <use xlink:href=\"#mbea251f5f1\" x=\"280.287858\" y=\"74.682548\" style=\"fill: #4c72b0; stroke: #4c72b0\"/>\n     <use xlink:href=\"#mbea251f5f1\" x=\"284.417878\" y=\"171.010051\" style=\"fill: #4c72b0; stroke: #4c72b0\"/>\n     <use xlink:href=\"#mbea251f5f1\" x=\"296.807935\" y=\"58.561347\" style=\"fill: #4c72b0; stroke: #4c72b0\"/>\n     <use xlink:href=\"#mbea251f5f1\" x=\"305.067977\" y=\"113.853067\" style=\"fill: #4c72b0; stroke: #4c72b0\"/>\n     <use xlink:href=\"#mbea251f5f1\" x=\"306.444648\" y=\"122.779683\" style=\"fill: #4c72b0; stroke: #4c72b0\"/>\n     <use xlink:href=\"#mbea251f5f1\" x=\"310.574664\" y=\"149.692762\" style=\"fill: #4c72b0; stroke: #4c72b0\"/>\n     <use xlink:href=\"#mbea251f5f1\" x=\"313.328018\" y=\"138.76765\" style=\"fill: #4c72b0; stroke: #4c72b0\"/>\n     <use xlink:href=\"#mbea251f5f1\" x=\"321.588049\" y=\"80.011871\" style=\"fill: #4c72b0; stroke: #4c72b0\"/>\n     <use xlink:href=\"#mbea251f5f1\" x=\"327.094747\" y=\"81.877131\" style=\"fill: #4c72b0; stroke: #4c72b0\"/>\n     <use xlink:href=\"#mbea251f5f1\" x=\"329.84809\" y=\"121.047652\" style=\"fill: #4c72b0; stroke: #4c72b0\"/>\n     <use xlink:href=\"#mbea251f5f1\" x=\"331.224768\" y=\"101.462391\" style=\"fill: #4c72b0; stroke: #4c72b0\"/>\n     <use xlink:href=\"#mbea251f5f1\" x=\"338.108132\" y=\"122.779683\" style=\"fill: #4c72b0; stroke: #4c72b0\"/>\n     <use xlink:href=\"#mbea251f5f1\" x=\"340.861475\" y=\"121.047652\" style=\"fill: #4c72b0; stroke: #4c72b0\"/>\n     <use xlink:href=\"#mbea251f5f1\" x=\"344.991496\" y=\"106.791713\" style=\"fill: #4c72b0; stroke: #4c72b0\"/>\n     <use xlink:href=\"#mbea251f5f1\" x=\"356.004881\" y=\"106.791713\" style=\"fill: #4c72b0; stroke: #4c72b0\"/>\n     <use xlink:href=\"#mbea251f5f1\" x=\"364.264923\" y=\"156.754114\" style=\"fill: #4c72b0; stroke: #4c72b0\"/>\n     <use xlink:href=\"#mbea251f5f1\" x=\"371.148287\" y=\"138.76765\" style=\"fill: #4c72b0; stroke: #4c72b0\"/>\n     <use xlink:href=\"#mbea251f5f1\" x=\"383.538338\" y=\"121.047652\" style=\"fill: #4c72b0; stroke: #4c72b0\"/>\n     <use xlink:href=\"#mbea251f5f1\" x=\"393.175057\" y=\"106.791713\" style=\"fill: #4c72b0; stroke: #4c72b0\"/>\n     <use xlink:href=\"#mbea251f5f1\" x=\"401.435087\" y=\"140.632913\" style=\"fill: #4c72b0; stroke: #4c72b0\"/>\n     <use xlink:href=\"#mbea251f5f1\" x=\"413.82515\" y=\"124.644946\" style=\"fill: #4c72b0; stroke: #4c72b0\"/>\n     <use xlink:href=\"#mbea251f5f1\" x=\"416.578505\" y=\"124.644946\" style=\"fill: #4c72b0; stroke: #4c72b0\"/>\n     <use xlink:href=\"#mbea251f5f1\" x=\"431.721911\" y=\"106.791713\" style=\"fill: #4c72b0; stroke: #4c72b0\"/>\n    </g>\n   </g>\n   <g id=\"patch_3\">\n    <path d=\"M 32.762031 284.145493 \nL 32.762031 15.996907 \n\" style=\"fill: none; stroke: #262626; stroke-width: 0.5; stroke-linejoin: miter; stroke-linecap: square\"/>\n   </g>\n   <g id=\"patch_4\">\n    <path d=\"M 70.203167 313.502812 \nL 404.607277 313.502812 \n\" style=\"fill: none; stroke: #262626; stroke-width: 0.5; stroke-linejoin: miter; stroke-linecap: square\"/>\n   </g>\n  </g>\n </g>\n <defs>\n  <clipPath id=\"p7449bf7f2d\">\n   <rect x=\"32.762031\" y=\"7.2\" width=\"417.957969\" height=\"306.302812\"/>\n  </clipPath>\n </defs>\n</svg>\n"
          },
          "metadata": {}
        }
      ],
      "source": [
        "from sklearn.preprocessing import StandardScaler\n",
        "\n",
        "data = np.loadtxt('motor.dat')\n",
        "scaler = StandardScaler()\n",
        "data = scaler.fit_transform(data)\n",
        "X = torch.tensor(data[:, 0], dtype=torch.float32).unsqueeze(-1)\n",
        "Y = torch.tensor(data[:, 1], dtype=torch.float32)\n",
        "\n",
        "fig, ax = plt.subplots()\n",
        "ax.plot(X, Y, 'x')\n",
        "ax.set(xlabel=\"$x$\", ylabel=\"$y$\")\n",
        "sns.despine(trim=True);"
      ]
    },
    {
      "cell_type": "markdown",
      "metadata": {
        "id": "Y840UtvFRCa-"
      },
      "source": [
        "### Part A.I\n",
        "\n",
        "Your goal is to implement the model described below.\n",
        "We use the radial basis functions (`RadialBasisFunction`) with centers, $x_i$ at $m=50$ equidistant points between the minimum and maximum of the observed inputs:\n",
        "\n",
        "$$\n",
        "\\phi_i(x;\\ell) = \\exp \\left( - \\frac{(x - x_i)^2}{2 \\ell^2} \\right),\n",
        "$$\n",
        "\n",
        "for $i=1,\\dots,m$.\n",
        "We denote the vector of RBFs evaluated at $x$ as $\\boldsymbol{\\phi}(x;\\ell)$.\n",
        "\n",
        "We are not going to pick the length-scales $\\ell$ by hand. Instead, we will put a prior on it:\n",
        "\n",
        "$$\n",
        "\\ell \\sim \\text{Exponential}(1).\n",
        "$$\n",
        "\n",
        "The corresponding weights have priors:\n",
        "\n",
        "$$\n",
        "w_j | \\alpha_i \\sim N(0, \\alpha_j^2),\n",
        "$$\n",
        "\n",
        "and its $\\alpha_j$ has a prior:\n",
        "\n",
        "$$\n",
        "\\alpha_j \\sim \\text{Exponential}(1),\n",
        "$$\n",
        "\n",
        "for $j=1,\\dots,m$.\n",
        "\n",
        "Denote our data as:\n",
        "\n",
        "$$\n",
        "x_{1:n} = (x_1, \\dots, x_n)^T,\\;\\text{(inputs)},\n",
        "$$\n",
        "\n",
        "and\n",
        "\n",
        "$$\n",
        "y_{1:n} = (y_1, \\dots, y_n)^T,\\;\\text{(outputs)}.\n",
        "$$\n",
        "\n",
        "The likelihood of the data is:\n",
        "\n",
        "$$\n",
        "y_i | \\mathbf{w}, \\sigma \\sim N(\\mathbf{w}^T \\boldsymbol{\\phi}(x_i;\\ell), \\sigma^2),\n",
        "$$\n",
        "\n",
        "for $i=1,\\dots,n$.\n",
        "\n",
        "$$\n",
        "y_n | \\ell, \\mathbf{w}, \\sigma \\sim N(\\mathbf{w}^T \\boldsymbol{\\phi}(x_n;\\ell), \\sigma^2).\n",
        "$$\n",
        "\n",
        "Complete the `pyro` implementation of that model:\n",
        "\n",
        "**Answer:**"
      ]
    },
    {
      "cell_type": "code",
      "execution_count": 10,
      "metadata": {
        "id": "HnBRJdUyRCa-"
      },
      "outputs": [],
      "source": [
        "def model(X, y, num_centers=50):\n",
        "    with pyro.plate(\"centers\", num_centers):\n",
        "        alpha = pyro.sample(\"alpha\", dist.Exponential(1.0))\n",
        "        # Notice below that dist.Normal needs the standard deviation - not the variance\n",
        "        # We follow a different convention in the lecture notes\n",
        "        w = pyro.sample(\"w\", dist.Normal(0.0, alpha))\n",
        "    ell =pyro.sample(\"ell\", dist.Exponential(1.0)) # Complete the code assign to ell the correct prior distribution (an Exponential(1)).\n",
        "    # Hint: Look at alpha.\n",
        "    sigma = pyro.sample(\"sigma\", dist.Exponential(1.0))# Complete the code assign to sigma the correct prior distribution (an Exponential(1))\n",
        "    x_centers = torch.linspace(X.min(), X.max(), num_centers).unsqueeze(-1)\n",
        "    Phi = RadialBasisFunctions(x_centers, ell)(X)\n",
        "    with pyro.plate(\"data\", X.shape[0]):\n",
        "        pyro.sample(\"y\", dist.Normal(Phi @ w, sigma), obs=y)\n",
        "    # Notice that I'm making the model return all the variables that I have made.\n",
        "    # This is not essential for characterizing the posterior, but it does reduce redundant code\n",
        "    # when we are trying to get the posterior predictive.\n",
        "    return locals()"
      ]
    },
    {
      "cell_type": "markdown",
      "metadata": {
        "id": "wykPnN-0RCa-"
      },
      "source": [
        "The graph will help to understand the model:"
      ]
    },
    {
      "cell_type": "code",
      "execution_count": 11,
      "metadata": {
        "colab": {
          "base_uri": "https://localhost:8080/",
          "height": 401
        },
        "id": "pwI8-K5QRCa_",
        "outputId": "3d482f74-a498-42b6-a3bf-9ddc821eaa5c"
      },
      "outputs": [
        {
          "output_type": "execute_result",
          "data": {
            "image/svg+xml": "<?xml version=\"1.0\" encoding=\"UTF-8\" standalone=\"no\"?>\n<!DOCTYPE svg PUBLIC \"-//W3C//DTD SVG 1.1//EN\"\n \"http://www.w3.org/Graphics/SVG/1.1/DTD/svg11.dtd\">\n<!-- Generated by graphviz version 2.43.0 (0)\n -->\n<!-- Title: %3 Pages: 1 -->\n<svg width=\"368pt\" height=\"285pt\"\n viewBox=\"0.00 0.00 368.00 285.00\" xmlns=\"http://www.w3.org/2000/svg\" xmlns:xlink=\"http://www.w3.org/1999/xlink\">\n<g id=\"graph0\" class=\"graph\" transform=\"scale(1 1) rotate(0) translate(4 281)\">\n<title>%3</title>\n<polygon fill=\"white\" stroke=\"transparent\" points=\"-4,4 -4,-281 364,-281 364,4 -4,4\"/>\n<g id=\"clust1\" class=\"cluster\">\n<title>cluster_centers</title>\n<polygon fill=\"none\" stroke=\"black\" points=\"144,-91 144,-261.5 220,-261.5 220,-91 144,-91\"/>\n<text text-anchor=\"middle\" x=\"192.5\" y=\"-98.8\" font-family=\"Times,serif\" font-size=\"14.00\">centers</text>\n</g>\n<g id=\"clust2\" class=\"cluster\">\n<title>cluster_data</title>\n<polygon fill=\"none\" stroke=\"black\" points=\"69,-8 69,-83 139,-83 139,-8 69,-8\"/>\n<text text-anchor=\"middle\" x=\"119.5\" y=\"-15.8\" font-family=\"Times,serif\" font-size=\"14.00\">data</text>\n</g>\n<!-- ell -->\n<g id=\"node1\" class=\"node\">\n<title>ell</title>\n<ellipse fill=\"white\" stroke=\"black\" cx=\"27\" cy=\"-140\" rx=\"27\" ry=\"18\"/>\n<text text-anchor=\"middle\" x=\"27\" y=\"-136.3\" font-family=\"Times,serif\" font-size=\"14.00\">ell</text>\n</g>\n<!-- y -->\n<g id=\"node5\" class=\"node\">\n<title>y</title>\n<ellipse fill=\"gray\" stroke=\"black\" cx=\"104\" cy=\"-57\" rx=\"27\" ry=\"18\"/>\n<text text-anchor=\"middle\" x=\"104\" y=\"-53.3\" font-family=\"Times,serif\" font-size=\"14.00\">y</text>\n</g>\n<!-- ell&#45;&gt;y -->\n<g id=\"edge3\" class=\"edge\">\n<title>ell&#45;&gt;y</title>\n<path fill=\"none\" stroke=\"black\" d=\"M37.43,-123.08C44.17,-113.34 53.44,-100.89 63,-91 67.58,-86.26 72.84,-81.56 78.03,-77.27\"/>\n<polygon fill=\"black\" stroke=\"black\" points=\"80.38,-79.87 86.02,-70.91 76.02,-74.4 80.38,-79.87\"/>\n</g>\n<!-- sigma -->\n<g id=\"node2\" class=\"node\">\n<title>sigma</title>\n<ellipse fill=\"white\" stroke=\"black\" cx=\"104\" cy=\"-140\" rx=\"32.49\" ry=\"18\"/>\n<text text-anchor=\"middle\" x=\"104\" y=\"-136.3\" font-family=\"Times,serif\" font-size=\"14.00\">sigma</text>\n</g>\n<!-- sigma&#45;&gt;y -->\n<g id=\"edge4\" class=\"edge\">\n<title>sigma&#45;&gt;y</title>\n<path fill=\"none\" stroke=\"black\" d=\"M104,-121.82C104,-111.19 104,-97.31 104,-85.2\"/>\n<polygon fill=\"black\" stroke=\"black\" points=\"107.5,-85.15 104,-75.15 100.5,-85.15 107.5,-85.15\"/>\n</g>\n<!-- alpha -->\n<g id=\"node3\" class=\"node\">\n<title>alpha</title>\n<ellipse fill=\"white\" stroke=\"black\" cx=\"182\" cy=\"-235.5\" rx=\"29.8\" ry=\"18\"/>\n<text text-anchor=\"middle\" x=\"182\" y=\"-231.8\" font-family=\"Times,serif\" font-size=\"14.00\">alpha</text>\n</g>\n<!-- w -->\n<g id=\"node4\" class=\"node\">\n<title>w</title>\n<ellipse fill=\"white\" stroke=\"black\" cx=\"181\" cy=\"-140\" rx=\"27\" ry=\"18\"/>\n<text text-anchor=\"middle\" x=\"181\" y=\"-136.3\" font-family=\"Times,serif\" font-size=\"14.00\">w</text>\n</g>\n<!-- alpha&#45;&gt;w -->\n<g id=\"edge1\" class=\"edge\">\n<title>alpha&#45;&gt;w</title>\n<path fill=\"none\" stroke=\"black\" d=\"M181.82,-217.35C181.67,-203.64 181.46,-184.17 181.29,-168.32\"/>\n<polygon fill=\"black\" stroke=\"black\" points=\"184.79,-168 181.18,-158.04 177.79,-168.08 184.79,-168\"/>\n</g>\n<!-- w&#45;&gt;y -->\n<g id=\"edge2\" class=\"edge\">\n<title>w&#45;&gt;y</title>\n<path fill=\"none\" stroke=\"black\" d=\"M170.57,-123.08C163.83,-113.34 154.56,-100.89 145,-91 140.42,-86.26 135.16,-81.56 129.97,-77.27\"/>\n<polygon fill=\"black\" stroke=\"black\" points=\"131.98,-74.4 121.98,-70.91 127.62,-79.87 131.98,-74.4\"/>\n</g>\n<!-- distribution_description_node -->\n<g id=\"node6\" class=\"node\">\n<title>distribution_description_node</title>\n<text text-anchor=\"start\" x=\"238\" y=\"-261.8\" font-family=\"Times,serif\" font-size=\"14.00\">alpha ~ Exponential</text>\n<text text-anchor=\"start\" x=\"238\" y=\"-246.8\" font-family=\"Times,serif\" font-size=\"14.00\">w ~ Normal</text>\n<text text-anchor=\"start\" x=\"238\" y=\"-231.8\" font-family=\"Times,serif\" font-size=\"14.00\">ell ~ Exponential</text>\n<text text-anchor=\"start\" x=\"238\" y=\"-216.8\" font-family=\"Times,serif\" font-size=\"14.00\">sigma ~ Exponential</text>\n<text text-anchor=\"start\" x=\"238\" y=\"-201.8\" font-family=\"Times,serif\" font-size=\"14.00\">y ~ Normal</text>\n</g>\n</g>\n</svg>\n",
            "text/plain": [
              "<graphviz.graphs.Digraph at 0x7a584120e2d0>"
            ]
          },
          "metadata": {},
          "execution_count": 11
        }
      ],
      "source": [
        "pyro.render_model(model, (X, Y), render_distributions=True)"
      ]
    },
    {
      "cell_type": "markdown",
      "metadata": {
        "id": "P2y1dkwSRCa_"
      },
      "source": [
        "Use `pyro.infer.autoguide.AutoDiagonalNormal` to make the guide:"
      ]
    },
    {
      "cell_type": "code",
      "execution_count": 12,
      "metadata": {
        "id": "zK_B6Ff2RCa_"
      },
      "outputs": [],
      "source": [
        "guide = pyro.infer.autoguide.AutoDiagonalNormal(model)"
      ]
    },
    {
      "cell_type": "markdown",
      "metadata": {
        "id": "-QFuk-3cRCa_"
      },
      "source": [
        "We will use variational inference. Here is the training code from the hans-on activity:"
      ]
    },
    {
      "cell_type": "code",
      "execution_count": 13,
      "metadata": {
        "id": "fRL6oqCPRCa_"
      },
      "outputs": [],
      "source": [
        "def train(model, guide, data, num_iter=5_000):\n",
        "    \"\"\"Train a model with a guide.\n",
        "\n",
        "    Arguments\n",
        "    ---------\n",
        "    model    -- The model to train.\n",
        "    guide    -- The guide to train.\n",
        "    data     -- The data to train the model with.\n",
        "    num_iter -- The number of iterations to train.\n",
        "\n",
        "    Returns\n",
        "    -------\n",
        "    elbos -- The ELBOs for each iteration.\n",
        "    param_store -- The parameters of the model.\n",
        "    \"\"\"\n",
        "\n",
        "    pyro.clear_param_store()\n",
        "\n",
        "    optimizer = pyro.optim.Adam({\"lr\": 0.001})\n",
        "\n",
        "    svi = pyro.infer.SVI(\n",
        "        model,\n",
        "        guide,\n",
        "        optimizer,\n",
        "        loss=pyro.infer.JitTrace_ELBO()\n",
        "    )\n",
        "\n",
        "    elbos = []\n",
        "    for i in range(num_iter):\n",
        "        loss = svi.step(*data)\n",
        "        elbos.append(-loss)\n",
        "        if i % 1_000 == 0:\n",
        "            print(f\"Iteration: {i} Loss: {loss}\")\n",
        "\n",
        "    return elbos, pyro.get_param_store()"
      ]
    },
    {
      "cell_type": "markdown",
      "metadata": {
        "id": "GlBKcYuTRCa_"
      },
      "source": [
        "### Part A.II\n",
        "\n",
        "Train the model for 20,000 iterations. Call the `train()` function we defined above to do it.\n",
        "Make sure you store the returned elbo values because you will need them later.\n",
        "\n",
        "**Answer:**"
      ]
    },
    {
      "cell_type": "code",
      "execution_count": null,
      "metadata": {
        "id": "1eq84Z4FRCa_"
      },
      "outputs": [],
      "source": [
        "# Your code here"
      ]
    },
    {
      "cell_type": "markdown",
      "metadata": {
        "id": "_HeeukR3RCbA"
      },
      "source": [
        "### Part A.III\n",
        "\n",
        "Plot the evolution of the ELBO.\n",
        "\n",
        "**Answer:**"
      ]
    },
    {
      "cell_type": "code",
      "execution_count": null,
      "metadata": {
        "id": "Lo2zs7WERCbA"
      },
      "outputs": [],
      "source": [
        "# Your code here"
      ]
    },
    {
      "cell_type": "markdown",
      "metadata": {
        "id": "Vjm5rwlORCbA"
      },
      "source": [
        "### Part A.IV\n",
        "\n",
        "Take 1,000 posterior samples.\n",
        "\n",
        "**Answer:**\n",
        "\n",
        "I'm giving you this one because it is a bit tricky. You need to use the `pyro.infer.Predictive` class to do it. Here is how you can use it:"
      ]
    },
    {
      "cell_type": "code",
      "execution_count": null,
      "metadata": {
        "id": "eBTL6qCwRCbA"
      },
      "outputs": [],
      "source": [
        "post_samples = pyro.infer.Predictive(model, guide=guide, num_samples=10)(X, Y)\n",
        "# Just modify the call to get the right number of samples"
      ]
    },
    {
      "cell_type": "markdown",
      "metadata": {
        "id": "-5oKtkV_RCbA"
      },
      "source": [
        "### Part A.V\n",
        "\n",
        "Plot the histograms of the posteriors of $\\ell$, $\\sigma$, $\\alpha_{10}$ and $w_{10}$.\n",
        "\n",
        "**Answer:**"
      ]
    },
    {
      "cell_type": "code",
      "execution_count": null,
      "metadata": {
        "id": "otUktmNpRCbA"
      },
      "outputs": [],
      "source": [
        "# First, here is how to extract the samples.\n",
        "ell = post_samples[\"ell\"]\n",
        "# You can do `post_samples.keys()` to see all the keys.\n",
        "# But they should correspond to the names of the latent variables in the model.\n",
        "sigma = # Your code here\n",
        "alphas = # Your code here\n",
        "ws = # Your code here\n",
        "\n",
        "# Here is the code to make the histogram for the length scale.\n",
        "fig, ax = plt.subplots()\n",
        "# **VERY IMPORTANT** - You need to detach the tensor from the computational graph.\n",
        "# Otherwise, you will get very very strange behavior.\n",
        "ax.hist(ell.detach().numpy(), bins=20, alpha=.5)\n",
        "ax.set(xlabel=\"$\\ell$\", ylabel=\"Frequency\")\n",
        "sns.despine(trim=True);\n",
        "\n",
        "# Your code for the other histograms here"
      ]
    },
    {
      "cell_type": "markdown",
      "metadata": {
        "id": "R6epTTAVRCbA"
      },
      "source": [
        "### Part A.VI\n",
        "\n",
        "Let's extend them model to make predictions.\n",
        "\n",
        "**Answer:**"
      ]
    },
    {
      "cell_type": "code",
      "execution_count": null,
      "metadata": {
        "id": "mM0u5ChURCbA"
      },
      "outputs": [],
      "source": [
        "# Again, I'm giving you most of the code here.\n",
        "\n",
        "def predictive_model(X, y, num_centers=50):\n",
        "    # First we run the original model get all the variables\n",
        "    params = model(X, y, num_centers)\n",
        "    # Here is how you can access the variables\n",
        "    w = params[\"w\"]\n",
        "    ell = # Access the length scale\n",
        "    sigma = # Access the standard deviation of the measurement noise\n",
        "    x_centers = # Access the centers of the radial basis functions\n",
        "    # Here are the points where we want to make predictions\n",
        "    xs = torch.linspace(X.min(), X.max(), 100).unsqueeze(-1)\n",
        "    # Evaluate the basis on the prediction points\n",
        "    Phi = RadialBasisFunctions(x_centers, ell)(xs)\n",
        "    # Make the predictions - we use a deterministic node here because we want to\n",
        "    # save the results of the predictions.\n",
        "    predictions = pyro.deterministic(\"predictions\", Phi @ w)\n",
        "    # Finally, we add the measurement noise\n",
        "    predictions_with_noise = pyro.sample(\"predictions_with_noise\", dist.Normal(predictions, sigma))\n",
        "    return locals()"
      ]
    },
    {
      "cell_type": "markdown",
      "metadata": {
        "id": "a-wATH2SRCbA"
      },
      "source": [
        "### Part A.VII\n",
        "\n",
        "Extract the posterior predictive distribution using 10,000 samples. Separate aleatory and epistemic uncertainty.\n",
        "\n",
        "**Answer:**"
      ]
    },
    {
      "cell_type": "code",
      "execution_count": null,
      "metadata": {
        "id": "LbGJqdh0RCbB"
      },
      "outputs": [],
      "source": [
        "# Here is how to make the predictions. Just change the number of samples to the right number.\n",
        "post_pred = pyro.infer.Predictive(predictive_model, guide=guide, num_samples=10)(X, Y)\n",
        "# We will predict here:\n",
        "xs = torch.linspace(X.min(), X.max(), 100).unsqueeze(-1)\n",
        "# You can extract the predictions from post_pred like this:\n",
        "predictions = post_pred[\"predictions\"]\n",
        "# Note that we extracted the deterministic node called \"predictions\" from the model.\n",
        "# Get the epistemic uncertainty in the usual way:\n",
        "p_500, p_025, p_975 = np.percentile(predictions, [50, 2.5, 97.5], axis=0)\n",
        "# Extract predictions with noise\n",
        "predictions_with_noise = # Your code here\n",
        "# Get the aleatory uncertainty\n",
        "ap_025, ap_975 = # Your code here"
      ]
    },
    {
      "cell_type": "markdown",
      "metadata": {
        "id": "ERpvJsuQRCbB"
      },
      "source": [
        "### Part A.VIII\n",
        "\n",
        "Plot the data, the median, the 95% credible interval of epistemic uncertainty and the 95% credible interval of aleatory uncertainty, along with five samples from the posterior.\n",
        "\n",
        "**Answer:**"
      ]
    },
    {
      "cell_type": "code",
      "execution_count": null,
      "metadata": {
        "id": "hmm-RYwWRCbB"
      },
      "outputs": [],
      "source": [
        "# Your code here. You have everything you need to make the plot."
      ]
    },
    {
      "cell_type": "markdown",
      "metadata": {
        "id": "yukoPmJjRCbB"
      },
      "source": [
        "### Part B - Heteroscedastic regression\n",
        "\n",
        "We are going to build a model that has an input-varying noise. Such models are called heteroscedastic models.\n",
        "Here I will let you do more of the work.\n",
        "\n",
        "Everything is as before for $\\ell$, the $\\alpha_j$'s, and the $w_j$'s.\n",
        "We now introduce a model for the noise that is input dependent.\n",
        "It will use the same RBFs as the mean function.\n",
        "But let's use a different length-scale, $\\ell_\\sigma$.\n",
        "So, we add:\n",
        "\n",
        "$$\n",
        "\\ell_\\sigma \\sim \\text{Exponential}(1),\n",
        "$$\n",
        "\n",
        "$$\n",
        "\\alpha_{\\sigma,j} \\sim \\text{Exponential}(1),\n",
        "$$\n",
        "\n",
        "and\n",
        "\n",
        "$$\n",
        "w_{\\sigma,j} | \\alpha_{\\sigma,j} \\sim N(0, \\alpha_{\\sigma,j}^2),\n",
        "$$\n",
        "\n",
        "for $j=1,\\dots,m$.\n",
        "\n",
        "Our model for the input-dependent noise variance is:\n",
        "\n",
        "$$\n",
        "\\sigma(x;\\mathbf{w}_\\sigma,\\ell) = \\exp\\left(\\mathbf{w}_\\sigma^T \\boldsymbol{\\phi}(x;\\ell_\\sigma)\\right).\n",
        "$$\n",
        "\n",
        "So, the likelihood of the data is:\n",
        "\n",
        "$$\n",
        "y_i | \\mathbf{w}, \\mathbf{w}_\\sigma \\sim N\\left(\\mathbf{w}^T \\boldsymbol{\\phi}(x_i;\\ell), \\sigma^2(x_i;\\mathbf{w}_\\sigma,\\ell)\\right),\n",
        "$$\n",
        "\n",
        "You will implement this model.\n",
        "\n",
        "### Part B.I\n",
        "\n",
        "Complete the code below:"
      ]
    },
    {
      "cell_type": "code",
      "execution_count": null,
      "metadata": {
        "id": "j85OZGg_RCbB"
      },
      "outputs": [],
      "source": [
        "def model(X, y, num_centers=50):\n",
        "    with pyro.plate(\"centers\", num_centers):\n",
        "        alpha = pyro.sample(\"alpha\", dist.Exponential(1.0))\n",
        "        w = pyro.sample(\"w\", dist.Normal(0.0, alpha))\n",
        "        # Let's add the generalized linear model for the log noise.\n",
        "        alpha_noise = # Your code here\n",
        "        w_noise = # Your code here\n",
        "    ell = pyro.sample(\"ell\", dist.Exponential(1.))\n",
        "    ell_noise = # Your code here\n",
        "    x_centers = torch.linspace(X.min(), X.max(), num_centers).unsqueeze(-1)\n",
        "    Phi = RadialBasisFunctions(x_centers, ell)(X)\n",
        "    Phi_noise = # Your code here\n",
        "    # This is the new part 2/2\n",
        "    model_mean = Phi @ w\n",
        "    sigma = # Your code here (torch.exp(<something>))\n",
        "    with pyro.plate(\"data\", X.shape[0]):\n",
        "        pyro.sample(\"y\", dist.Normal(model_mean, sigma), obs=y)\n",
        "    return locals()"
      ]
    },
    {
      "cell_type": "markdown",
      "metadata": {
        "id": "_lkFJAFaRCbC"
      },
      "source": [
        "Make a `pyro.infer.autoguide.AutoDiagonalNormal` guide:"
      ]
    },
    {
      "cell_type": "code",
      "execution_count": null,
      "metadata": {
        "id": "PssQVhxkRCbK"
      },
      "outputs": [],
      "source": [
        "# Your code here"
      ]
    },
    {
      "cell_type": "markdown",
      "metadata": {
        "id": "QFf-7IjtRCbK"
      },
      "source": [
        "Make the graph of the model using `pyro` functionality:"
      ]
    },
    {
      "cell_type": "code",
      "execution_count": null,
      "metadata": {
        "id": "WJzLVUXbRCbL"
      },
      "outputs": [],
      "source": [
        "# Your code here"
      ]
    },
    {
      "cell_type": "markdown",
      "metadata": {
        "id": "2-2XOD6HRCbL"
      },
      "source": [
        "### Part B.II\n",
        "\n",
        "Train the model using 20,000 iterations. Then plot the evolution of the ELBO.\n",
        "\n",
        "**Answer:**"
      ]
    },
    {
      "cell_type": "code",
      "execution_count": null,
      "metadata": {
        "id": "hEmBTBqQRCbL"
      },
      "outputs": [],
      "source": [
        "# Your code here"
      ]
    },
    {
      "cell_type": "markdown",
      "metadata": {
        "id": "_LlQwooIRCbL"
      },
      "source": [
        "### Part B.III\n",
        "\n",
        "Extend the model to make predictions.\n",
        "\n",
        "**Answer:**"
      ]
    },
    {
      "cell_type": "code",
      "execution_count": null,
      "metadata": {
        "id": "l9-LhkJyRCbL"
      },
      "outputs": [],
      "source": [
        "def predictive_model(X, y, num_centers=50):\n",
        "    params = model(X, y, num_centers)\n",
        "    w = params[\"w\"]\n",
        "    w_noise = # Your code here\n",
        "    ell = # Your code here\n",
        "    ell_noise = # Your code here\n",
        "    sigma = # Your code here\n",
        "    x_centers = params[\"x_centers\"]\n",
        "    xs = torch.linspace(X.min(), X.max(), 100).unsqueeze(-1)\n",
        "    Phi = # Your code here\n",
        "    Phi_noise = # Your code here\n",
        "    predictions = pyro.deterministic(\"predictions\", Phi @ w)\n",
        "    sigma = # Your code here (pyro.deterministic(\"sigma\", <something>))\n",
        "    predictions_with_noise = # Your code here\n",
        "    return locals()"
      ]
    },
    {
      "cell_type": "markdown",
      "metadata": {
        "id": "6RROdWiyRCbL"
      },
      "source": [
        "### Part B.IV\n",
        "\n",
        "Now, make predictions and calculate the epistemic and aleatory uncertainties as in part A.VII.\n",
        "\n",
        "**Answer:**"
      ]
    },
    {
      "cell_type": "code",
      "execution_count": null,
      "metadata": {
        "id": "Zm1jUT2MRCbL"
      },
      "outputs": [],
      "source": [
        "# Your code here"
      ]
    },
    {
      "cell_type": "markdown",
      "metadata": {
        "id": "cKltkofURCbM"
      },
      "source": [
        "### Part B.V\n",
        "\n",
        "Make the same plot as in part A.VIII.\n",
        "\n",
        "**Answer:**"
      ]
    },
    {
      "cell_type": "code",
      "execution_count": null,
      "metadata": {
        "id": "Y_xbkuxlRCbM"
      },
      "outputs": [],
      "source": [
        "# Your code here"
      ]
    },
    {
      "cell_type": "markdown",
      "metadata": {
        "id": "rUQMxr_iRCbM"
      },
      "source": [
        "### Part B.VI\n",
        "\n",
        "Plot the estimated noise standard deviation as a function of of the input along with a 95% credible interval.\n",
        "\n",
        "**Answer:**"
      ]
    },
    {
      "cell_type": "code",
      "execution_count": null,
      "metadata": {
        "id": "B2JPjXXYRCbM"
      },
      "outputs": [],
      "source": [
        "# Your code here"
      ]
    },
    {
      "cell_type": "markdown",
      "metadata": {
        "id": "jf5Z8rF9RCbM"
      },
      "source": [
        "### Part B.VII\n",
        "\n",
        "Which model do you prefer? Why?\n",
        "\n",
        "**Answer:**\n",
        "<br><br><br><br><br><br><br><br><br><br><br><br><br><br>"
      ]
    },
    {
      "cell_type": "markdown",
      "metadata": {
        "id": "vEqyV2KvRCbM"
      },
      "source": [
        "### Part B.IX\n",
        "\n",
        "Can you think of any way to improve the model?\n",
        "Go crazy! This is the last homework assignment!\n",
        "There is no right or wrong answer here.\n",
        "But if you have a good idea, we will give you extra credit."
      ]
    },
    {
      "cell_type": "code",
      "execution_count": null,
      "metadata": {
        "id": "SraUgi3FRCbM"
      },
      "outputs": [],
      "source": [
        "## Your code and answers here"
      ]
    }
  ],
  "metadata": {
    "celltoolbar": "Tags",
    "kernelspec": {
      "display_name": "Python 3 (ipykernel)",
      "language": "python",
      "name": "python3"
    },
    "language_info": {
      "codemirror_mode": {
        "name": "ipython",
        "version": 3
      },
      "file_extension": ".py",
      "mimetype": "text/x-python",
      "name": "python",
      "nbconvert_exporter": "python",
      "pygments_lexer": "ipython3",
      "version": "3.11.6"
    },
    "colab": {
      "provenance": []
    }
  },
  "nbformat": 4,
  "nbformat_minor": 0
}